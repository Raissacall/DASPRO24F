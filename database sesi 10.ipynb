{
 "cells": [
  {
   "cell_type": "code",
   "execution_count": 25,
   "id": "cdfd1ec4-ad56-43f1-901c-59d317f74cf1",
   "metadata": {},
   "outputs": [],
   "source": [
    "datalist = {}"
   ]
  },
  {
   "cell_type": "code",
   "execution_count": 27,
   "id": "75285e57-f81e-490e-b308-72ab0abeff0c",
   "metadata": {},
   "outputs": [],
   "source": [
    "def addStudent():\n",
    "    id_student = int(input(\"Masukan ID Mahasiswa:\"))\n",
    "    name_student = input(\"Masukan Nama Mahasiswa:\")\n",
    "    major_student = input(\"Masukan Prodi Mahasiswa:\")\n",
    "    IPK_student = float(input(\"Masukan IPK Mahasiswa:\"))\n",
    "    temp = []\n",
    "    temp.append(name_student)\n",
    "    temp.append(major_student)\n",
    "    temp.append(IPK_student)\n",
    "    temp = tuple(temp)\n",
    "    datalist[id_student] = temp"
   ]
  },
  {
   "cell_type": "code",
   "execution_count": 29,
   "id": "62b2dc4a-788a-4784-92af-abc5ea97aa9d",
   "metadata": {},
   "outputs": [],
   "source": [
    "def readStudent():\n",
    "    print(datalist)"
   ]
  },
  {
   "cell_type": "code",
   "execution_count": 31,
   "id": "706ed509-f2e9-4266-a8e0-ef8e8866f058",
   "metadata": {},
   "outputs": [],
   "source": [
    "def findStudent():\n",
    "    id_student = int(input(\"Masukan ID Mahasiswa yang akan dicari:\"))\n",
    "    if id_student in datalist:\n",
    "        print(datalist[id_student])\n",
    "    else:\n",
    "        print(\"Mahasiswa tidak ditemukan\")"
   ]
  },
  {
   "cell_type": "code",
   "execution_count": 35,
   "id": "8f90699a-5a6e-4e1a-b30c-5b24537f651d",
   "metadata": {},
   "outputs": [],
   "source": [
    "def updateIPKStudent():\n",
    "    id_student = int(input(\"Masukan ID Mahasiswa yang akan di update IPK:\"))\n",
    "    update_IPK = float(input(\"Masukan IPK yang terbaru:\"))\n",
    "    temp = list(datalistt[id_student])\n",
    "    temp[2] = update_IPK\n",
    "    temp = tuple(temp)\n",
    "    datalist[id_student] = temp"
   ]
  },
  {
   "cell_type": "code",
   "execution_count": null,
   "id": "619f51c5-dd68-47d4-ae16-efa6786dda67",
   "metadata": {},
   "outputs": [],
   "source": [
    "def delStudent():\n",
    "    id_student = int(input(\"Masukan ID Mahasiswa yang akan dihapus:\"))\n",
    "    del datalist[id_student]"
   ]
  },
  {
   "cell_type": "code",
   "execution_count": null,
   "id": "e7e71c3e-b1bd-462c-8a7c-d4c96bcf4644",
   "metadata": {},
   "outputs": [
    {
     "name": "stdout",
     "output_type": "stream",
     "text": [
      "---Menu---\n",
      "\n",
      "1.Tambahkan Mahasiswa \n",
      "2 Tampilkan Seluruh Mahasiswa \n",
      "3.Cari Mahasiswa \n",
      "4.Update IPK Mahasiswa \n",
      "5.Hapus Mahasiswa \n",
      "6.Keluar\n"
     ]
    }
   ],
   "source": [
    "i = True\n",
    "while i is True:\n",
    "    print(\"---Menu---\\n\\n1.Tambahkan Mahasiswa \\n2 Tampilkan Seluruh Mahasiswa \\n3.Cari Mahasiswa \\n4.Update IPK Mahasiswa \\n5.Hapus Mahasiswa \\n6.Keluar\")\n",
    "    pilihan = int(input())\n",
    "\n",
    "    if pilihan == 1:\n",
    "        addStudent()\n",
    "\n",
    "    elif pilihan == 2:\n",
    "        readStudent()\n",
    "\n",
    "    elif pilihan == 3:\n",
    "        findStudent()\n",
    "\n",
    "    elif pilihan == 4:\n",
    "        updateIPKStudent()\n",
    "\n",
    "    elif pilihan == 5:\n",
    "        delStudent()\n",
    "\n",
    "    elif pilihan == 6:\n",
    "        i = False\n",
    "    else:\n",
    "        print(\"Masukan angka yang ada di menu (1-6)\")\n",
    "    "
   ]
  }
 ],
 "metadata": {
  "kernelspec": {
   "display_name": "Python [conda env:base] *",
   "language": "python",
   "name": "conda-base-py"
  },
  "language_info": {
   "codemirror_mode": {
    "name": "ipython",
    "version": 3
   },
   "file_extension": ".py",
   "mimetype": "text/x-python",
   "name": "python",
   "nbconvert_exporter": "python",
   "pygments_lexer": "ipython3",
   "version": "3.12.7"
  }
 },
 "nbformat": 4,
 "nbformat_minor": 5
}
