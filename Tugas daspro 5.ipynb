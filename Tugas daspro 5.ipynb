{
 "cells": [
  {
   "cell_type": "code",
   "execution_count": 1,
   "id": "77c33784-4bb8-4d14-96d3-4c754554721a",
   "metadata": {},
   "outputs": [
    {
     "name": "stdin",
     "output_type": "stream",
     "text": [
      "Masukkan nama Anda:  Raissa\n"
     ]
    },
    {
     "name": "stdout",
     "output_type": "stream",
     "text": [
      "Selamat datang, Raissa\n"
     ]
    }
   ],
   "source": [
    "nama = input(\"Masukkan nama Anda: \")\n",
    "print(\"Selamat datang,\", nama)"
   ]
  },
  {
   "cell_type": "code",
   "execution_count": 21,
   "id": "a5e9bca3-2b91-42b5-8e7f-6a22f63ad4e5",
   "metadata": {},
   "outputs": [
    {
     "name": "stdout",
     "output_type": "stream",
     "text": [
      "Nama saya Ica dan umur saya 19\n"
     ]
    }
   ],
   "source": [
    "nama = \"Ica\"\n",
    "umur = 19\n",
    "print(\"Nama saya\", nama, \"dan umur saya\", umur)"
   ]
  },
  {
   "cell_type": "code",
   "execution_count": 41,
   "id": "2e41b2d7-d5b6-4672-8117-2a3a2d1ddfbe",
   "metadata": {},
   "outputs": [
    {
     "name": "stdout",
     "output_type": "stream",
     "text": [
      "Panjang string: 20\n"
     ]
    }
   ],
   "source": [
    "# 1. len() : Menghitung panjang string\n",
    "teks = \"Halo, nama aku Mark!\"\n",
    "panjang = len(teks)\n",
    "print(f\"Panjang string: {panjang}\")"
   ]
  },
  {
   "cell_type": "code",
   "execution_count": 43,
   "id": "2bce0ffd-9060-4a47-b39d-f6cfffba6522",
   "metadata": {},
   "outputs": [
    {
     "name": "stdout",
     "output_type": "stream",
     "text": [
      "String kecil: halo, nama aku mark!\n"
     ]
    }
   ],
   "source": [
    "# 2. lower() : Mengubah string menjadi huruf kecil\n",
    "teks_kecil = teks.lower()\n",
    "print(f\"String kecil: {teks_kecil}\")"
   ]
  },
  {
   "cell_type": "code",
   "execution_count": 45,
   "id": "fd6b139d-20be-4c7a-8b2e-f2a2a18c6fed",
   "metadata": {},
   "outputs": [
    {
     "name": "stdout",
     "output_type": "stream",
     "text": [
      "String besar: HALO, NAMA AKU MARK!\n"
     ]
    }
   ],
   "source": [
    "# 3. upper() : Mengubah string menjadi huruf besar\n",
    "teks_besar = teks.upper()\n",
    "print(f\"String besar: {teks_besar}\")"
   ]
  },
  {
   "cell_type": "code",
   "execution_count": 49,
   "id": "c22c3df8-23e0-41ac-915f-1bcd649378ff",
   "metadata": {},
   "outputs": [
    {
     "name": "stdout",
     "output_type": "stream",
     "text": [
      "Aku suka dimsum mentai: Aku suka dimsum mentai\n"
     ]
    }
   ],
   "source": [
    "# 4. strip() : Menghapus spasi di awal dan akhir string\n",
    "teks_dengan_spasi = \"   Aku suka dimsum mentai   \"\n",
    "teks_tanpa_spasi = teks_dengan_spasi.strip()\n",
    "print(f\"Aku suka dimsum mentai: {teks_tanpa_spasi}\")"
   ]
  },
  {
   "cell_type": "code",
   "execution_count": 57,
   "id": "1d79bca9-0a95-4338-82d3-c36ac27f9991",
   "metadata": {},
   "outputs": [
    {
     "name": "stdout",
     "output_type": "stream",
     "text": [
      "String baru: Halo, nama aku Aca!\n"
     ]
    }
   ],
   "source": [
    "# 5. replace() : Mengganti substring\n",
    "teks_baru = teks.replace(\"Mark\", \"Aca\")\n",
    "print(f\"String baru: {teks_baru}\")"
   ]
  },
  {
   "cell_type": "code",
   "execution_count": 59,
   "id": "267823ec-a6e3-408e-9dac-4e01591d248d",
   "metadata": {},
   "outputs": [
    {
     "name": "stdout",
     "output_type": "stream",
     "text": [
      "List kata: ['Halo', ' nama aku Mark!']\n"
     ]
    }
   ],
   "source": [
    "# 6. split() : Memecah string menjadi list\n",
    "kata_kata = teks.split(\",\")\n",
    "print(f\"List kata: {kata_kata}\")"
   ]
  },
  {
   "cell_type": "code",
   "execution_count": 63,
   "id": "ea0e5c29-99ec-4fef-a1e7-abdf16da1cb3",
   "metadata": {},
   "outputs": [
    {
     "name": "stdout",
     "output_type": "stream",
     "text": [
      "Kalimat: Aku suka tidur\n"
     ]
    }
   ],
   "source": [
    "# 7. join() : Menggabungkan list menjadi string\n",
    "daftar_kata = [\"Aku\", \"suka\", \"tidur\"]\n",
    "kalimat = \" \".join(daftar_kata)\n",
    "print(f\"Kalimat: {kalimat}\")"
   ]
  }
 ],
 "metadata": {
  "kernelspec": {
   "display_name": "Python [conda env:base] *",
   "language": "python",
   "name": "conda-base-py"
  },
  "language_info": {
   "codemirror_mode": {
    "name": "ipython",
    "version": 3
   },
   "file_extension": ".py",
   "mimetype": "text/x-python",
   "name": "python",
   "nbconvert_exporter": "python",
   "pygments_lexer": "ipython3",
   "version": "3.12.7"
  }
 },
 "nbformat": 4,
 "nbformat_minor": 5
}
