{
 "cells": [
  {
   "cell_type": "code",
   "execution_count": 11,
   "id": "e0a5d4d4-0ee9-448b-95b2-bc998bb911a4",
   "metadata": {},
   "outputs": [
    {
     "name": "stdin",
     "output_type": "stream",
     "text": [
      "angka1 : 2\n",
      "angka2 : 1\n",
      "Operator(+,-,*,/): *\n"
     ]
    },
    {
     "name": "stdout",
     "output_type": "stream",
     "text": [
      "Hasil : 2\n",
      "Proses perhitungan selesai dikerjakan!\n"
     ]
    }
   ],
   "source": [
    "\n",
    "try:\n",
    "    angka1 = int(input('angka1 :'))\n",
    "    angka2 = int(input('angka2 :'))\n",
    "    operator = input(\"Operator(+,-,*,/):\")\n",
    "    if operator == \"+\":\n",
    "        hasil = angka1 + angka2\n",
    "    elif operator == \"-\":\n",
    "        hasil = angka1 - angka2\n",
    "    elif operator == \"*\":\n",
    "        hasil = angka1 * angka2\n",
    "    elif operator == \"/\":\n",
    "        hasil = angka1 / angka2\n",
    "    else:\n",
    "        hasil = \"Operator salah!\"\n",
    "except (ZeroDivisionError, ValueError) as arr:\n",
    "    print(\"Terdapat kesalahan:\", arr)\n",
    "else:\n",
    "    print(f\"Hasil : {hasil}\")\n",
    "finally :\n",
    "    print(\"Proses perhitungan selesai dikerjakan!\")"
   ]
  },
  {
   "cell_type": "code",
   "execution_count": 19,
   "id": "884b8306-9ff3-4a22-817b-60681adfe737",
   "metadata": {},
   "outputs": [
    {
     "name": "stdin",
     "output_type": "stream",
     "text": [
      "Banyak Data: 3\n",
      "Isikan Nilai Siswa: 80\n",
      "Isikan Nilai Siswa: 90\n",
      "Isikan Nilai Siswa: 100\n",
      "Tampilkan data urutan ke berapa : 4\n"
     ]
    },
    {
     "name": "stdout",
     "output_type": "stream",
     "text": [
      "Data tidak tersedia!!\n",
      "Load Data selesai!!\n"
     ]
    }
   ],
   "source": [
    "#IndexError -> LIST\n",
    "data = []\n",
    "try:\n",
    "    jumlahData = int(input(\"Banyak Data:\"))\n",
    "    \n",
    "    for i in range (0,jumlahData):\n",
    "        nilai = int(input(\"Isikan Nilai Siswa:\"))\n",
    "        data.append(nilai)\n",
    "        \n",
    "    showData = int(input(\"Tampilkan data urutan ke berapa :\"))\n",
    "    hasil = data [showData-1]\n",
    "except ValueError:\n",
    "    print(\"Input harus angka!!\")\n",
    "except IndexError:\n",
    "    print(\"Data tidak tersedia!!\")\n",
    "else:\n",
    "    print(hasil)\n",
    "finally:\n",
    "    print(\"Load Data selesai!!\")"
   ]
  },
  {
   "cell_type": "code",
   "execution_count": 31,
   "id": "6415b228-f547-4a67-a7ad-8c61cf026ff5",
   "metadata": {},
   "outputs": [
    {
     "name": "stdin",
     "output_type": "stream",
     "text": [
      "Isukan Umur: 4\n"
     ]
    },
    {
     "name": "stdout",
     "output_type": "stream",
     "text": [
      "terjadi Kesalahan: Umur harus lebih dari 16\n",
      "Cek umur selesai\n"
     ]
    }
   ],
   "source": [
    "#Custom Exception\n",
    "# Tiket Film, umur harus >= 17\n",
    "\n",
    "class UmurException(Exception):\n",
    "    pass\n",
    "\n",
    "def checkUmur(umur):\n",
    "    if umur < 17:\n",
    "        raise UmurException(\"Umur harus lebih dari 16\")\n",
    "\n",
    "try:\n",
    "    umur = int(input(\"Isukan Umur:\"))\n",
    "    checkUmur(umur)\n",
    "except (ValueError,UmurException) as arr:\n",
    "    print(\"terjadi Kesalahan:\", arr)\n",
    "else:\n",
    "    print(\"Umur anda valid\")\n",
    "finally:\n",
    "    print(\"Cek umur selesai\")"
   ]
  },
  {
   "cell_type": "code",
   "execution_count": 35,
   "id": "e538ff8a-bd51-42e4-a28b-6aec89637be2",
   "metadata": {},
   "outputs": [
    {
     "name": "stdout",
     "output_type": "stream",
     "text": [
      "Kesalahan mengakses nama atribut\n"
     ]
    }
   ],
   "source": [
    "#Data dari database -> dict\n",
    "try:\n",
    "    dataSiswa ={\n",
    "        \"nim\" : \"20240040048\",\n",
    "        \"nama\" : \"mark\",\n",
    "        \"alamat\" : \"toronto\"\n",
    "    }\n",
    "    print(DataSiswa[\"kelas\"])\n",
    "except KeyError:\n",
    "    print(\"Data tidak tersedia\")\n",
    "except NameError:\n",
    "    print(\"Kesalahan mengakses nama atribut\")"
   ]
  },
  {
   "cell_type": "code",
   "execution_count": 37,
   "id": "817a182c-e0f1-43ab-802f-fcb11a62d043",
   "metadata": {},
   "outputs": [
    {
     "name": "stdout",
     "output_type": "stream",
     "text": [
      "Usia,Transaksi,label,Gender\n",
      "59,47,0,L\n",
      "57,3,0,P\n",
      "43,17,0,L\n",
      "21,35,1,P\n",
      "52,2,1,P\n",
      "37,20,1,L\n",
      "21,0,0,L\n",
      "22,3,0,P\n",
      "33,35,0,L\n",
      "37,8,0,L\n",
      "46,21,0,L\n",
      "58,41,0,P\n",
      "34,40,0,L\n",
      "25,39,1,P\n",
      "21,8,1,P\n",
      "20,37,1,L\n",
      "59,38,1,L\n",
      "54,1,0,P\n",
      "41,14,0,L\n",
      "19,39,1,L\n",
      "53,4,0,P\n",
      "50,49,1,P\n",
      "19,38,1,L\n",
      "34,1,1,P\n",
      "60,0,1,L\n",
      "57,27,0,P\n",
      "43,37,0,P\n",
      "35,9,1,L\n",
      "33,50,1,L\n",
      "59,25,0,P\n",
      "59,41,1,P\n",
      "26,1,0,P\n",
      "31,15,0,L\n",
      "22,18,0,L\n",
      "53,6,0,P\n",
      "53,31,1,P\n",
      "24,21,1,L\n",
      "20,42,1,L\n",
      "50,43,0,L\n",
      "52,34,0,L\n",
      "52,8,1,P\n",
      "58,4,0,P\n",
      "35,47,1,L\n",
      "46,43,1,P\n",
      "43,44,0,L\n",
      "27,50,1,P\n",
      "18,45,1,P\n",
      "55,23,0,L\n",
      "40,37,1,L\n",
      "28,5,1,L\n",
      "24,11,0,L\n",
      "32,28,1,P\n",
      "20,45,0,L\n",
      "18,18,1,P\n",
      "41,12,0,P\n",
      "22,24,0,L\n",
      "47,4,0,L\n",
      "56,38,0,L\n",
      "50,47,1,L\n",
      "29,49,1,L\n",
      "23,33,1,L\n",
      "27,26,1,P\n",
      "42,2,1,P\n",
      "37,8,1,P\n",
      "48,45,0,L\n",
      "41,16,0,P\n",
      "48,39,1,P\n",
      "51,28,0,P\n",
      "57,3,0,L\n",
      "59,35,1,L\n",
      "50,45,1,L\n",
      "19,19,0,P\n",
      "52,0,0,P\n",
      "26,3,0,L\n",
      "48,10,1,P\n",
      "53,7,1,L\n",
      "29,25,0,L\n",
      "59,37,0,L\n",
      "42,37,1,P\n",
      "36,1,0,L\n",
      "40,40,1,P\n",
      "54,22,1,L\n",
      "39,0,1,P\n",
      "23,22,1,L\n",
      "29,29,1,P\n",
      "57,9,1,L\n",
      "44,47,0,L\n",
      "45,16,0,L\n",
      "42,27,1,L\n",
      "60,22,1,P\n",
      "23,38,1,L\n",
      "34,15,1,L\n",
      "48,16,0,L\n",
      "48,33,1,P\n",
      "19,35,1,P\n",
      "57,42,0,L\n",
      "33,2,1,L\n",
      "46,4,1,L\n",
      "52,23,0,P\n",
      "48,8,0,P\n",
      "\n"
     ]
    }
   ],
   "source": [
    "#File handling -> mengakses file plain text\n",
    "# open(\"Nama_File\",\"mode\")\n",
    "# mode -> r - read, w - write, a - append\n",
    "\n",
    "try:\n",
    "    file = open(\"dataLatih.csv\",'r')\n",
    "    konten = file.read()\n",
    "except FileNotFoundError:\n",
    "    print(\"File Tidak ditemukan!!\")\n",
    "else: \n",
    "    print(konten)\n",
    "finally:\n",
    "    file.close()"
   ]
  },
  {
   "cell_type": "code",
   "execution_count": 43,
   "id": "f91428e1-a4c0-49bf-9a02-16eb993ad40e",
   "metadata": {},
   "outputs": [],
   "source": [
    "try:\n",
    "    with open(\"data.txt\",'w') as file:\n",
    "        file.write(\"Hello, Apa kabar!!\\n\")\n",
    "        file.write(\"Minggu depan UAS\\n\")\n",
    "except FileNotFoundError:\n",
    "    print(\"File tidak ditemukan\")"
   ]
  }
 ],
 "metadata": {
  "kernelspec": {
   "display_name": "Python [conda env:base] *",
   "language": "python",
   "name": "conda-base-py"
  },
  "language_info": {
   "codemirror_mode": {
    "name": "ipython",
    "version": 3
   },
   "file_extension": ".py",
   "mimetype": "text/x-python",
   "name": "python",
   "nbconvert_exporter": "python",
   "pygments_lexer": "ipython3",
   "version": "3.12.7"
  }
 },
 "nbformat": 4,
 "nbformat_minor": 5
}
