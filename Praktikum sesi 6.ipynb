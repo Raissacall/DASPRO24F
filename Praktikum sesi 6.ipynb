{
 "cells": [
  {
   "cell_type": "code",
   "execution_count": 1,
   "id": "faeec4d3-0188-4d1c-862d-ddc759eba3bc",
   "metadata": {},
   "outputs": [
    {
     "name": "stdin",
     "output_type": "stream",
     "text": [
      "Masukkan nilai coding (0-100):  90\n",
      "Masukkan nilai interview (A/B/C/dll):  B\n"
     ]
    },
    {
     "name": "stdout",
     "output_type": "stream",
     "text": [
      "Selamat Kamu Berhasil Menjadi Calon Programmer\n"
     ]
    }
   ],
   "source": [
    "nilaiCoding = int(input(\"Masukkan nilai coding (0-100): \"))\n",
    "nilaiInterview = input(\"Masukkan nilai interview (A/B/C/dll): \").upper()\n",
    "\n",
    "if nilaiCoding > 80:\n",
    "    hasilCoding = \"LOLOS\"\n",
    "elif 60 <= nilaiCoding <= 80:\n",
    "    hasilCoding = \"DIPERTIMBANGKAN\"\n",
    "else:\n",
    "    hasilCoding = \"GAGAL\"\n",
    "\n",
    "if nilaiInterview == \"A\" or nilaiInterview == \"B\":\n",
    "    hasilInterview = \"LOLOS\"\n",
    "else:\n",
    "    hasilInterview = \"GAGAL\"\n",
    "\n",
    "if (hasilCoding == \"LOLOS\" or hasilCoding == \"DIPERTIMBANGKAN\") and hasilInterview == \"LOLOS\":\n",
    "    print(\"Selamat Kamu Berhasil Menjadi Calon Programmer\")\n",
    "else:\n",
    "    print(\"Maaf Kamu Belum Berhasil Menjadi Calon Programmer\")"
   ]
  },
  {
   "cell_type": "code",
   "execution_count": 3,
   "id": "afbf1d38-d6a8-492a-8f9a-94866481fa45",
   "metadata": {},
   "outputs": [
    {
     "name": "stdin",
     "output_type": "stream",
     "text": [
      "Nomor Punggung : 90\n"
     ]
    },
    {
     "name": "stdout",
     "output_type": "stream",
     "text": [
      "Kamu mempunyai pilihan posisi : Target Attacker,Berhak dipilih menjadi Capten, \n"
     ]
    }
   ],
   "source": [
    "nomorPunggung = int(input(\"Nomor Punggung :\"))\n",
    "posisi = \"\"\n",
    "if nomorPunggung % 2 == 0:\n",
    "    posisi += \"Target Attacker,\"\n",
    "    if nomorPunggung >=50 and nomorPunggung <=100:\n",
    "        posisi += \"Berhak dipilih menjadi Capten,\"\n",
    "else:\n",
    "    posisi += \"Defender,\"\n",
    "    if nomorPunggung > 90:\n",
    "        posisi += \"Playmaker,\"\n",
    "    if nomorPunggung % 3 == 0 and nomorPunggung % 5 ==0:\n",
    "        posisi += \"Keeper,\"\n",
    "print(f\"Kamu mempunyai pilihan posisi : {posisi} \")"
   ]
  }
 ],
 "metadata": {
  "kernelspec": {
   "display_name": "Python [conda env:base] *",
   "language": "python",
   "name": "conda-base-py"
  },
  "language_info": {
   "codemirror_mode": {
    "name": "ipython",
    "version": 3
   },
   "file_extension": ".py",
   "mimetype": "text/x-python",
   "name": "python",
   "nbconvert_exporter": "python",
   "pygments_lexer": "ipython3",
   "version": "3.12.7"
  }
 },
 "nbformat": 4,
 "nbformat_minor": 5
}
