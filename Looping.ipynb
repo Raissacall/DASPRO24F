{
 "cells": [
  {
   "cell_type": "markdown",
   "id": "bc64b421-292d-49d9-ba1e-69aafd527a56",
   "metadata": {},
   "source": [
    "<h1>for variabel in collection</h1>"
   ]
  },
  {
   "cell_type": "code",
   "execution_count": 3,
   "id": "af2c4b70-6e64-41af-ab60-4c0f5295e301",
   "metadata": {},
   "outputs": [
    {
     "name": "stdout",
     "output_type": "stream",
     "text": [
      "Nama Buah : Apple\n",
      "Nama Buah : Banana\n",
      "Nama Buah : Watermelon\n",
      "Nama Buah : Pineapple\n"
     ]
    }
   ],
   "source": [
    "fruits = [\"Apple\",\"Banana\",\"Watermelon\",\"Pineapple\"]\n",
    "for fruit in fruits:\n",
    "    print(f\"Nama Buah : {fruit}\")"
   ]
  },
  {
   "cell_type": "code",
   "execution_count": 7,
   "id": "e85c8861-f47d-4af6-af46-bf49dcd50696",
   "metadata": {},
   "outputs": [
    {
     "name": "stdout",
     "output_type": "stream",
     "text": [
      "Nilai Rata-rata : 71.42857142857143\n"
     ]
    }
   ],
   "source": [
    "#contoh:\n",
    "#Kelas TI24F punya data nilai pemprograman python 80,100,90,70,70,50,40\n",
    "#Carilah nilai rata-rata nilai pemprograman python\n",
    "\n",
    "nilaiPython = [80,100,90,70,70,50,40]\n",
    "total = 0\n",
    "for nilai in nilaiPython:\n",
    "    total += nilai\n",
    "rata2 = total / len(nilaiPython)\n",
    "print(f\"Nilai Rata-rata : {rata2}\")"
   ]
  },
  {
   "cell_type": "code",
   "execution_count": 9,
   "id": "f3a0ea35-6fa4-4437-8b7d-8c3c807dd268",
   "metadata": {},
   "outputs": [
    {
     "name": "stdout",
     "output_type": "stream",
     "text": [
      "0 : Jan\n",
      "1 : Feb\n",
      "2 : Mar\n",
      "3 : Apr\n",
      "4 : May\n",
      "5 : Jun\n",
      "6 : Jul\n",
      "7 : Aug\n",
      "8 : Sep\n"
     ]
    }
   ],
   "source": [
    "#Enumerate\n",
    "month = [\"Jan\",\"Feb\",\"Mar\",\"Apr\",\"May\",\"Jun\",\"Jul\",\"Aug\",\"Sep\"]\n",
    "for i, m in enumerate(month):\n",
    "    print(f\"{i} : {m}\")"
   ]
  },
  {
   "cell_type": "code",
   "execution_count": 11,
   "id": "3ffeb755-362b-4ad9-ae6a-4c9fa1978d79",
   "metadata": {},
   "outputs": [
    {
     "name": "stdin",
     "output_type": "stream",
     "text": [
      "Isikan Nama Kampus: Universitas Pendidikan Indonesia\n"
     ]
    },
    {
     "name": "stdout",
     "output_type": "stream",
     "text": [
      "U adalah Bukan Huruf Vokal | Total:0\n",
      "Jumlah Total huruf Vokal : 0\n",
      "n adalah Bukan Huruf Vokal | Total:0\n",
      "Jumlah Total huruf Vokal : 0\n",
      "i adalah Huruf Vokal | Total:1\n",
      "Jumlah Total huruf Vokal : 1\n",
      "v adalah Bukan Huruf Vokal | Total:1\n",
      "Jumlah Total huruf Vokal : 1\n",
      "e adalah Huruf Vokal | Total:2\n",
      "Jumlah Total huruf Vokal : 2\n",
      "r adalah Bukan Huruf Vokal | Total:2\n",
      "Jumlah Total huruf Vokal : 2\n",
      "s adalah Bukan Huruf Vokal | Total:2\n",
      "Jumlah Total huruf Vokal : 2\n",
      "i adalah Huruf Vokal | Total:3\n",
      "Jumlah Total huruf Vokal : 3\n",
      "t adalah Bukan Huruf Vokal | Total:3\n",
      "Jumlah Total huruf Vokal : 3\n",
      "a adalah Huruf Vokal | Total:4\n",
      "Jumlah Total huruf Vokal : 4\n",
      "s adalah Bukan Huruf Vokal | Total:4\n",
      "Jumlah Total huruf Vokal : 4\n",
      "  adalah Bukan Huruf Vokal | Total:4\n",
      "Jumlah Total huruf Vokal : 4\n",
      "P adalah Bukan Huruf Vokal | Total:4\n",
      "Jumlah Total huruf Vokal : 4\n",
      "e adalah Huruf Vokal | Total:5\n",
      "Jumlah Total huruf Vokal : 5\n",
      "n adalah Bukan Huruf Vokal | Total:5\n",
      "Jumlah Total huruf Vokal : 5\n",
      "d adalah Bukan Huruf Vokal | Total:5\n",
      "Jumlah Total huruf Vokal : 5\n",
      "i adalah Huruf Vokal | Total:6\n",
      "Jumlah Total huruf Vokal : 6\n",
      "d adalah Bukan Huruf Vokal | Total:6\n",
      "Jumlah Total huruf Vokal : 6\n",
      "i adalah Huruf Vokal | Total:7\n",
      "Jumlah Total huruf Vokal : 7\n",
      "k adalah Bukan Huruf Vokal | Total:7\n",
      "Jumlah Total huruf Vokal : 7\n",
      "a adalah Huruf Vokal | Total:8\n",
      "Jumlah Total huruf Vokal : 8\n",
      "n adalah Bukan Huruf Vokal | Total:8\n",
      "Jumlah Total huruf Vokal : 8\n",
      "  adalah Bukan Huruf Vokal | Total:8\n",
      "Jumlah Total huruf Vokal : 8\n",
      "I adalah Bukan Huruf Vokal | Total:8\n",
      "Jumlah Total huruf Vokal : 8\n",
      "n adalah Bukan Huruf Vokal | Total:8\n",
      "Jumlah Total huruf Vokal : 8\n",
      "d adalah Bukan Huruf Vokal | Total:8\n",
      "Jumlah Total huruf Vokal : 8\n",
      "o adalah Huruf Vokal | Total:9\n",
      "Jumlah Total huruf Vokal : 9\n",
      "n adalah Bukan Huruf Vokal | Total:9\n",
      "Jumlah Total huruf Vokal : 9\n",
      "e adalah Huruf Vokal | Total:10\n",
      "Jumlah Total huruf Vokal : 10\n",
      "s adalah Bukan Huruf Vokal | Total:10\n",
      "Jumlah Total huruf Vokal : 10\n",
      "i adalah Huruf Vokal | Total:11\n",
      "Jumlah Total huruf Vokal : 11\n",
      "a adalah Huruf Vokal | Total:12\n",
      "Jumlah Total huruf Vokal : 12\n"
     ]
    }
   ],
   "source": [
    "kampus = input(\"Isikan Nama Kampus:\")\n",
    "listVokal = [\"a\",\"i\",\"u\",\"e\",\"o\"]\n",
    "total = 0\n",
    "isVokal =\"\"\n",
    "for karakter in kampus:\n",
    "    if karakter in listVokal:\n",
    "        total += 1\n",
    "        isVokal = \"Huruf Vokal\"\n",
    "    else: \n",
    "        isVokal = \"Bukan Huruf Vokal\"\n",
    "    print(f\"{karakter} adalah {isVokal} | Total:{total}\") #berapa banyak jumlah huruf vokal 'a,i,u,e,o' \n",
    "    print(f\"Jumlah Total huruf Vokal : {total}\")"
   ]
  },
  {
   "cell_type": "code",
   "execution_count": 13,
   "id": "e5d3f1c3-619a-46d3-b96a-fc12fbc552c2",
   "metadata": {},
   "outputs": [
    {
     "name": "stdout",
     "output_type": "stream",
     "text": [
      "[1, 4, 9, 16, 25]\n"
     ]
    }
   ],
   "source": [
    "#Looping list Comprehension\n",
    "data = [1,2,3,4,5]\n",
    "pangkat = [x**2 for x in data]\n",
    "print(pangkat)"
   ]
  },
  {
   "cell_type": "code",
   "execution_count": 25,
   "id": "a2df9cad-be47-4371-a6a5-d6ab3203f085",
   "metadata": {},
   "outputs": [
    {
     "name": "stdout",
     "output_type": "stream",
     "text": [
      "Nilai i adalah:0\n",
      "Nilai i adalah:1\n",
      "Nilai i adalah:2\n",
      "Nilai i adalah:3\n",
      "Nilai i adalah:4\n",
      "Nilai i adalah:5\n",
      "Nilai i adalah:6\n",
      "Nilai i adalah:7\n",
      "Nilai i adalah:8\n",
      "Nilai i adalah:9\n",
      "Nilai i adalah:10\n",
      "Nilai i adalah:11\n",
      "Nilai i adalah:12\n",
      "Nilai i adalah:13\n",
      "Nilai i adalah:14\n",
      "Nilai i adalah:15\n",
      "Nilai i adalah:16\n",
      "Nilai i adalah:17\n",
      "Nilai i adalah:18\n",
      "Nilai i adalah:19\n"
     ]
    }
   ],
   "source": [
    "#Range\n",
    "for i in range(20):\n",
    "    print(f\"Nilai i adalah:{i}\")"
   ]
  },
  {
   "cell_type": "code",
   "execution_count": 29,
   "id": "dd68b72a-5ffe-45f1-87d0-8409e493dac1",
   "metadata": {},
   "outputs": [
    {
     "name": "stdout",
     "output_type": "stream",
     "text": [
      "Nilai j : 5\n",
      "Nilai j : 6\n",
      "Nilai j : 7\n",
      "Nilai j : 8\n",
      "Nilai j : 9\n"
     ]
    }
   ],
   "source": [
    "for j in range(5,10):\n",
    "    print(f\"Nilai j : {j}\")"
   ]
  },
  {
   "cell_type": "code",
   "execution_count": 37,
   "id": "410d46ac-1d5f-4802-b10d-e74eae6eeaf7",
   "metadata": {},
   "outputs": [
    {
     "name": "stdin",
     "output_type": "stream",
     "text": [
      "Isikan Bilangan: 7\n"
     ]
    },
    {
     "name": "stdout",
     "output_type": "stream",
     "text": [
      "7 adalah Bilangan Prima\n"
     ]
    }
   ],
   "source": [
    "#Cek bilangan prima atau bukan prima\n",
    "number = int(input(\"Isikan Bilangan:\"))\n",
    "faktor=0\n",
    "\n",
    "for i in range (1,number+1):\n",
    "    if number % i == 0:\n",
    "        faktor +=1\n",
    "if faktor==2:\n",
    "    print(f\"{number} adalah Bilangan Prima\")\n",
    "else:\n",
    "    print(f\"{number} adalah Bukan Prima\")"
   ]
  },
  {
   "cell_type": "code",
   "execution_count": 47,
   "id": "d17dd103-e189-4344-bf04-6d3e1224b405",
   "metadata": {},
   "outputs": [
    {
     "name": "stdin",
     "output_type": "stream",
     "text": [
      "Isikan Bilangan: 8\n"
     ]
    },
    {
     "name": "stdout",
     "output_type": "stream",
     "text": [
      "8! = 40320\n"
     ]
    }
   ],
   "source": [
    "#Faktorial\n",
    "#3! = 3 * 2 * 1 = 6\n",
    "#4! = 4 * 3 * 2 * 1 = 24\n",
    "total = 1\n",
    "number = int (input(\"Isikan Bilangan:\"))\n",
    "for i in range(1,number+1):\n",
    "    total *= i\n",
    "print(f\"{number}! = {total}\")"
   ]
  },
  {
   "cell_type": "code",
   "execution_count": 45,
   "id": "6993f048-42af-4a1c-8cb3-abf769d26fd2",
   "metadata": {},
   "outputs": [
    {
     "name": "stdin",
     "output_type": "stream",
     "text": [
      "Isikan Bilangan: 15\n"
     ]
    },
    {
     "name": "stdout",
     "output_type": "stream",
     "text": [
      "1 -2 3 -4 5 -6 7 -8 9 -10 11 -12 13 -14 15 "
     ]
    }
   ],
   "source": [
    "# 1 -2 3 -4 5 -6 7 -8 9 -10\n",
    "number = int(input(\"Isikan Bilangan:\"))\n",
    "sign = 1\n",
    "for i in range(1,number+1):\n",
    "    result = sign * i\n",
    "    print(f\"{result} \", end='')\n",
    "    sign *= -1"
   ]
  },
  {
   "cell_type": "code",
   "execution_count": 49,
   "id": "8848e624-2e9c-483e-896c-9f6e827358cf",
   "metadata": {},
   "outputs": [
    {
     "name": "stdout",
     "output_type": "stream",
     "text": [
      "Jumlah Penonton Laki-laki:4\n",
      "Jumlah Penonton Perempuan:3\n"
     ]
    }
   ],
   "source": [
    "kursiBioskop = [\"L\",\"P\",\"P\",\"L\",\"L\",\"P\",\"L\"]\n",
    "\n",
    "#Hitunglah jumlah penonton Laki-laki\n",
    "#Hitunglah jumlah penonton Perempuan\n",
    "\n",
    "totalLaki = 0\n",
    "for jenis in kursiBioskop:\n",
    "    if jenis==\"L\":\n",
    "        totalLaki +=1\n",
    "print(f\"Jumlah Penonton Laki-laki:{totalLaki}\")\n",
    "print(f\"Jumlah Penonton Perempuan:{len(kursiBioskop)-totalLaki}\")"
   ]
  },
  {
   "cell_type": "code",
   "execution_count": 63,
   "id": "ba5911c4-1cf6-4e04-9b0c-5dad46d44f6c",
   "metadata": {},
   "outputs": [
    {
     "name": "stdout",
     "output_type": "stream",
     "text": [
      "Jumlah Couple:4\n"
     ]
    }
   ],
   "source": [
    "#Hitunglah jumlah orang yang kemingkinan berpasangan\n",
    "\n",
    "kursi = [\"L\",\"P\",\"P\",\"L\",\"L\",\"P\",\"L\"]\n",
    "couple = 0\n",
    "for i in range(len(kursi)-1):\n",
    "    if kursi[i] != kursi[i+1]:\n",
    "        couple+=1\n",
    "print(f\"Jumlah Couple:{couple}\")"
   ]
  },
  {
   "cell_type": "code",
   "execution_count": 67,
   "id": "23faea21-ba05-422c-b6a4-e095715d8d86",
   "metadata": {},
   "outputs": [
    {
     "name": "stdout",
     "output_type": "stream",
     "text": [
      "fname : Icaa\n",
      "lname : Mark\n"
     ]
    }
   ],
   "source": [
    "data = {\n",
    "    \"fname\" : \"Icaa\",\n",
    "    \"lname\" : \"Mark\"\n",
    "}\n",
    "for key,value in data.items():\n",
    "    print(f\"{key} : {value}\")"
   ]
  }
 ],
 "metadata": {
  "kernelspec": {
   "display_name": "Python [conda env:base] *",
   "language": "python",
   "name": "conda-base-py"
  },
  "language_info": {
   "codemirror_mode": {
    "name": "ipython",
    "version": 3
   },
   "file_extension": ".py",
   "mimetype": "text/x-python",
   "name": "python",
   "nbconvert_exporter": "python",
   "pygments_lexer": "ipython3",
   "version": "3.12.7"
  }
 },
 "nbformat": 4,
 "nbformat_minor": 5
}
