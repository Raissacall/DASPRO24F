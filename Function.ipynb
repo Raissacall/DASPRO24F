{
 "cells": [
  {
   "cell_type": "code",
   "execution_count": 13,
   "id": "2a553bde-686d-43b6-9afd-5876f8211eb3",
   "metadata": {},
   "outputs": [
    {
     "name": "stdin",
     "output_type": "stream",
     "text": [
      " nasi ayam\n"
     ]
    },
    {
     "name": "stdout",
     "output_type": "stream",
     "text": [
      "isan maya "
     ]
    }
   ],
   "source": [
    "def reversedWord(word):\n",
    "    word = word.split(\" \")\n",
    "    for i in range(len(word)):\n",
    "        rword = reversed(word[i])\n",
    "        for j in rword:\n",
    "            print(j, end=\"\")\n",
    "        print(\"\", end=\" \")\n",
    "\n",
    "word = input()\n",
    "reversedWord(word)"
   ]
  },
  {
   "cell_type": "code",
   "execution_count": 17,
   "id": "c153cebf-b692-4960-baa2-5d109e1ddd1c",
   "metadata": {},
   "outputs": [
    {
     "name": "stdin",
     "output_type": "stream",
     "text": [
      " ayam goreng\n",
      " 2 1\n"
     ]
    },
    {
     "name": "stdout",
     "output_type": "stream",
     "text": [
      "goreng ayam "
     ]
    }
   ],
   "source": [
    "def basedOnOrder(word, number):\n",
    "    word = word.split(\" \")\n",
    "    number = number.split(\" \")\n",
    "    number = list(map(int,number))\n",
    "    for i in number:\n",
    "        print(word[i-1], end=\" \")\n",
    "\n",
    "sentence = input()\n",
    "indeks = input()\n",
    "basedOnOrder(sentence, indeks)"
   ]
  },
  {
   "cell_type": "code",
   "execution_count": 25,
   "id": "2bd998cd-917f-41a2-88fd-aa0cf71d5fde",
   "metadata": {},
   "outputs": [
    {
     "name": "stdin",
     "output_type": "stream",
     "text": [
      "Masukan Kalimat:  bubur ayam\n",
      "Masukan Pilihan (1-2): 2\n"
     ]
    },
    {
     "name": "stdout",
     "output_type": "stream",
     "text": [
      "b|_|b|_|r 4y4m\n"
     ]
    }
   ],
   "source": [
    "def changeVokal(word, choose):\n",
    "    word = list(word)\n",
    "    if choose == 1:\n",
    "        for i in range (len(word)):\n",
    "            if word[i] == \"A\":\n",
    "                word[i] = \"4\"\n",
    "            elif word[i] == \"I\":\n",
    "                word[i] = \"1\"\n",
    "            elif word[i] == \"U\":\n",
    "                word[i] = \"|_|\"\n",
    "            elif word[i] == \"E\":\n",
    "                word[i] = \"3\"\n",
    "            elif word[i] == \"O\":\n",
    "                word[i] = \"0\"\n",
    "\n",
    "    elif choose == 2:\n",
    "        for i in range(len(word)):\n",
    "            if word[i] == \"a\":\n",
    "                word[i] = \"4\"\n",
    "            elif word[i] == \"i\":\n",
    "                word[i] = \"1\"\n",
    "            elif word[i] == \"u\":\n",
    "                word[i] = \"|_|\"\n",
    "            elif word[i] == \"e\":\n",
    "                word[i] = \"3\"\n",
    "            elif word[i] == \"o\":\n",
    "                word[i] = \"0\"\n",
    "    word = \"\".join(word)\n",
    "    print(word)\n",
    "\n",
    "word = input(\"Masukan Kalimat: \")\n",
    "choose = int(input(\"Masukan Pilihan (1-2):\"))\n",
    "changeVokal(word,choose)"
   ]
  },
  {
   "cell_type": "code",
   "execution_count": null,
   "id": "2c828568-a203-4408-b9f6-bf27cc332884",
   "metadata": {},
   "outputs": [],
   "source": []
  }
 ],
 "metadata": {
  "kernelspec": {
   "display_name": "Python [conda env:base] *",
   "language": "python",
   "name": "conda-base-py"
  },
  "language_info": {
   "codemirror_mode": {
    "name": "ipython",
    "version": 3
   },
   "file_extension": ".py",
   "mimetype": "text/x-python",
   "name": "python",
   "nbconvert_exporter": "python",
   "pygments_lexer": "ipython3",
   "version": "3.12.7"
  }
 },
 "nbformat": 4,
 "nbformat_minor": 5
}
