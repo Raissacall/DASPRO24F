{
 "cells": [
  {
   "cell_type": "markdown",
   "id": "a7427f59-edf2-49b8-9011-7857323c2531",
   "metadata": {},
   "source": [
    "<h1>Operator Aritmatika</h1>"
   ]
  },
  {
   "cell_type": "code",
   "execution_count": 5,
   "id": "432c9d10-c594-4d32-8fdc-ee1b83a7146c",
   "metadata": {},
   "outputs": [
    {
     "name": "stdout",
     "output_type": "stream",
     "text": [
      "Setiap teman akan menerima : 3.0 Apel\n",
      "Total Apel yang dimiliki Budi sekarang adalah : 20 Apel\n"
     ]
    }
   ],
   "source": [
    "jumlahApelBudi = 12\n",
    "jumlahTeman = 4\n",
    "\n",
    "apelDibagijumlahTeman = jumlahApelBudi/jumlahTeman\n",
    "print(\"Setiap teman akan menerima :\", apelDibagijumlahTeman, \"Apel\")\n",
    "\n",
    "tambahanApel = 8 \n",
    "totalApelsekarang = jumlahApelBudi + tambahanApel\n",
    "print(\"Total Apel yang dimiliki Budi sekarang adalah :\",totalApelsekarang,\"Apel\")"
   ]
  },
  {
   "cell_type": "markdown",
   "id": "c704c7f3-5495-4f62-8596-627f783d2046",
   "metadata": {},
   "source": [
    "<h1>Operator Perbandingan</h1>"
   ]
  },
  {
   "cell_type": "code",
   "execution_count": 8,
   "id": "66bdb357-1e9a-4614-a260-4deafa0514b4",
   "metadata": {},
   "outputs": [
    {
     "name": "stdin",
     "output_type": "stream",
     "text": [
      "Isikan tinggi badan Siti 160\n",
      "Isikan tinggi badan Andi 165\n"
     ]
    },
    {
     "name": "stdout",
     "output_type": "stream",
     "text": [
      "160 = 165 False\n",
      "160 ! 165 True\n",
      "160 > 165 False\n",
      "160 < 165 True\n",
      "160 >= 165 False\n",
      "160 < 165 True\n"
     ]
    }
   ],
   "source": [
    "fVal = int(input(\"Isikan tinggi badan Siti\"))\n",
    "sVal = int(input(\"Isikan tinggi badan Andi\"))\n",
    "\n",
    "print(fVal,\"=\",sVal,fVal==sVal)\n",
    "print(fVal,\"!\",sVal,fVal!=sVal)\n",
    "print(fVal,\">\",sVal,fVal>sVal)\n",
    "print(fVal,\"<\",sVal,fVal<sVal)\n",
    "print(fVal,\">=\",sVal,fVal>=sVal)\n",
    "print(fVal,\"<\",sVal,fVal<=sVal)"
   ]
  },
  {
   "cell_type": "markdown",
   "id": "6db712a7-0828-4710-8e1c-5ae9ca1f5395",
   "metadata": {},
   "source": [
    "<h1>Operator Logika</h1>"
   ]
  },
  {
   "cell_type": "code",
   "execution_count": 12,
   "id": "40d0844f-4001-480a-8440-0548d93ac19e",
   "metadata": {},
   "outputs": [
    {
     "name": "stdout",
     "output_type": "stream",
     "text": [
      "Budi Tidak Bisa Bermain Diluar \n"
     ]
    }
   ],
   "source": [
    "cuacaCerah = True\n",
    "sudahMenyelesaikanPR = False\n",
    "\n",
    "bisaBermain = cuacaCerah and sudahMenyelesaikanPR\n",
    "\n",
    "if bisaBermain:\n",
    "    print (\"Budi Bisa Bermain Diluar \")\n",
    "else :\n",
    "    print(\"Budi Tidak Bisa Bermain Diluar \")"
   ]
  },
  {
   "cell_type": "markdown",
   "id": "b70e00f3-3106-4889-b712-d62b9ef72db1",
   "metadata": {},
   "source": [
    "<h1>Operator Bitwise</h1>"
   ]
  },
  {
   "cell_type": "code",
   "execution_count": 17,
   "id": "d2f78fa4-4684-42e6-ac92-e4890e726452",
   "metadata": {},
   "outputs": [
    {
     "name": "stdout",
     "output_type": "stream",
     "text": [
      "2\n",
      "7\n",
      "5\n"
     ]
    }
   ],
   "source": [
    "angka1 = 6\n",
    "angka2 = 3\n",
    "\n",
    "print(angka1 & angka2)\n",
    "print(angka1 | angka2)\n",
    "print(angka1 ^ angka2)"
   ]
  },
  {
   "cell_type": "markdown",
   "id": "1f7dc00f-157f-4499-884e-5364b71c54e3",
   "metadata": {},
   "source": [
    "<h1>Operator Penugasan</h1>"
   ]
  },
  {
   "cell_type": "code",
   "execution_count": 20,
   "id": "4efda5db-17f9-4070-8cb1-c5e106eeb294",
   "metadata": {},
   "outputs": [
    {
     "name": "stdin",
     "output_type": "stream",
     "text": [
      "Isikan Uang Awal: 50000\n"
     ]
    },
    {
     "name": "stdout",
     "output_type": "stream",
     "text": [
      "Uang Awal : 50000\n",
      "setelah mengisi ulang 20000 = 70000\n",
      "sisa uang dikurang membeli internet 30000 = 40000\n"
     ]
    }
   ],
   "source": [
    "nilaiAwal = int (input(\"Isikan Uang Awal:\"))\n",
    "print(\"Uang Awal :\",nilaiAwal)\n",
    "nilaiAwal+=20000\n",
    "print(\"setelah mengisi ulang 20000 =\",nilaiAwal)\n",
    "nilaiAwal-=30000\n",
    "print(\"sisa uang dikurang membeli internet 30000 =\",nilaiAwal)"
   ]
  },
  {
   "cell_type": "markdown",
   "id": "6f78b576-a73e-45f6-b04d-09c8e6ee9dbd",
   "metadata": {},
   "source": [
    "<h1>Operator Keanggotaan</h1>"
   ]
  },
  {
   "cell_type": "code",
   "execution_count": 23,
   "id": "535c69fb-ba6a-48c7-a6ad-e80faa5a2ed1",
   "metadata": {},
   "outputs": [
    {
     "name": "stdout",
     "output_type": "stream",
     "text": [
      "False\n",
      "True\n",
      "True\n",
      "False\n"
     ]
    }
   ],
   "source": [
    "find = \"Eka\"\n",
    "daftarMahasiswa = \"Andi\",\"Budi\",\"Citra\",\"Dewi\"\n",
    "print(find in daftarMahasiswa)\n",
    "print(find not in daftarMahasiswa)\n",
    "\n",
    "find = \"Python\"\n",
    "Kalimat = \"Saya suka Belajar Python\"\n",
    "print(find in Kalimat)\n",
    "print(find not in Kalimat)"
   ]
  },
  {
   "cell_type": "markdown",
   "id": "751f58fa-6d6d-489f-9d7a-aafe6316dc4d",
   "metadata": {},
   "source": [
    "<h1>Operator Identitas</h1>"
   ]
  },
  {
   "cell_type": "code",
   "execution_count": 26,
   "id": "27e2a8ef-efd1-405e-842f-3d3413250f34",
   "metadata": {},
   "outputs": [
    {
     "name": "stdout",
     "output_type": "stream",
     "text": [
      "Apakah x dan y variabel yang sama: True\n",
      "list1 is list2: False\n",
      "list1 is not list2: True\n"
     ]
    }
   ],
   "source": [
    "x = 5\n",
    "y = 5\n",
    "\n",
    "hasil = x is y\n",
    "print (\"Apakah x dan y variabel yang sama:\", x is y)\n",
    "\n",
    "list1 = [4,5,6]\n",
    "list2 = [4,5,6]\n",
    "\n",
    "print(\"list1 is list2:\",list1 is list2)\n",
    "print(\"list1 is not list2:\",list1 is not list2)"
   ]
  },
  {
   "cell_type": "markdown",
   "id": "2bd5d26a-184c-4b36-9fc5-e7769653ef79",
   "metadata": {},
   "source": [
    "<h1>Operator Ternary</h1>"
   ]
  },
  {
   "cell_type": "code",
   "execution_count": 31,
   "id": "bdbbb1fe-c2a7-483d-98d0-d7764bef5042",
   "metadata": {},
   "outputs": [
    {
     "name": "stdin",
     "output_type": "stream",
     "text": [
      "masukan nilai x : 100\n"
     ]
    },
    {
     "name": "stdout",
     "output_type": "stream",
     "text": [
      "bilangan x lebih kecil dari 100\n"
     ]
    }
   ],
   "source": [
    "x = int(input(\"masukan nilai x :\"))\n",
    "y = 100\n",
    "isHigher = \"bilangan x lebih besar dari 100\" if x > y else \"bilangan x lebih kecil dari 100\"\n",
    "print(isHigher)"
   ]
  },
  {
   "cell_type": "code",
   "execution_count": 37,
   "id": "2078594c-3a49-4c34-9c83-b1a8f5d13b3a",
   "metadata": {},
   "outputs": [
    {
     "name": "stdin",
     "output_type": "stream",
     "text": [
      "masukan nilai matkul : 80\n"
     ]
    },
    {
     "name": "stdout",
     "output_type": "stream",
     "text": [
      "lulus\n"
     ]
    }
   ],
   "source": [
    "x = int(input(\"masukan nilai matkul :\"))\n",
    "y = 76\n",
    "isPass = \"lulus\" if x >= y else \"tidak lulus\"\n",
    "print(isPass)"
   ]
  }
 ],
 "metadata": {
  "kernelspec": {
   "display_name": "Python [conda env:base] *",
   "language": "python",
   "name": "conda-base-py"
  },
  "language_info": {
   "codemirror_mode": {
    "name": "ipython",
    "version": 3
   },
   "file_extension": ".py",
   "mimetype": "text/x-python",
   "name": "python",
   "nbconvert_exporter": "python",
   "pygments_lexer": "ipython3",
   "version": "3.12.7"
  }
 },
 "nbformat": 4,
 "nbformat_minor": 5
}
