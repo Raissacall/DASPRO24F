{
 "cells": [
  {
   "cell_type": "code",
   "execution_count": null,
   "id": "a2bd3cc8-cbe4-4a21-816c-1806cb705e5f",
   "metadata": {},
   "outputs": [],
   "source": []
  },
  {
   "cell_type": "code",
   "execution_count": 20,
   "id": "9d7cf329-3847-4730-9193-07e1bc8555d2",
   "metadata": {},
   "outputs": [
    {
     "name": "stdout",
     "output_type": "stream",
     "text": [
      "Nama : Adi\n",
      "umur : 20\n",
      "Alamat : Jl. Sekarwangi\n",
      "Provinsi : 7413412\n",
      "Nilai Pemprograman : 90.5\n",
      "Status Menikah : False\n"
     ]
    }
   ],
   "source": [
    "name = \"Adi\"\n",
    "age = 20\n",
    "address,province = \"Jl. Sekarwangi\",\"7413412\"\n",
    "pythonScore = 90.5\n",
    "isMarried = False\n",
    "\n",
    "print(\"Nama :\",name)\n",
    "print(\"umur :\",age)\n",
    "print(\"Alamat :\", address)\n",
    "print(\"Provinsi :\",province)\n",
    "print(\"Nilai Pemprograman :\",pythonScore)\n",
    "print(\"Status Menikah :\", isMarried)"
   ]
  },
  {
   "cell_type": "code",
   "execution_count": 32,
   "id": "a5634ef7-d7c4-42bf-9a1d-f0d423852e6b",
   "metadata": {},
   "outputs": [
    {
     "name": "stdout",
     "output_type": "stream",
     "text": [
      "Tipe Data (nama) : <class 'str'>\n",
      "Tipe Data (age) : <class 'int'>\n",
      "Tipe Data (address) : <class 'str'>\n",
      "Tipe Data (province) : <class 'str'>\n",
      "Tipe Data (pythonScore) : <class 'float'>\n",
      "Tipe Data (isMarried) : <class 'bool'>\n"
     ]
    }
   ],
   "source": [
    "print(\"Tipe Data (nama) :\",type(name))\n",
    "print(\"Tipe Data (age) :\",type(age))\n",
    "print(\"Tipe Data (address) :\",type(address))\n",
    "print(\"Tipe Data (province) :\",type(province))\n",
    "print(\"Tipe Data (pythonScore) :\",type(pythonScore))\n",
    "print(\"Tipe Data (isMarried) :\",type(isMarried))"
   ]
  },
  {
   "cell_type": "code",
   "execution_count": 24,
   "id": "07bdad71-a283-4c90-b8f2-1aac3c609330",
   "metadata": {},
   "outputs": [
    {
     "name": "stdout",
     "output_type": "stream",
     "text": [
      "7413414 7413412.0 True\n"
     ]
    }
   ],
   "source": [
    "#Casting atau Konversi Tipe Data\n",
    "\n",
    "strToInt = int(province)\n",
    "strToFloat = float(province)\n",
    "strToBool = bool(province)\n",
    "print(strToInt+2,strToFloat,strToBool)"
   ]
  },
  {
   "cell_type": "code",
   "execution_count": 26,
   "id": "edf630b0-0b2b-4a62-8eef-058f94a834bc",
   "metadata": {},
   "outputs": [
    {
     "name": "stdout",
     "output_type": "stream",
     "text": [
      "20 20.0 True\n"
     ]
    }
   ],
   "source": [
    "#Casting\n",
    "\n",
    "intToStr = str(age)\n",
    "intToFloat = float(age)\n",
    "intToBool = bool(age)\n",
    "print(intToStr,intToFloat,intToBool)"
   ]
  },
  {
   "cell_type": "code",
   "execution_count": 34,
   "id": "603ed878-0b47-47ca-ba27-f802de4b9ae9",
   "metadata": {},
   "outputs": [
    {
     "name": "stdout",
     "output_type": "stream",
     "text": [
      "90.5 90.5 True\n"
     ]
    }
   ],
   "source": [
    "#Casting\n",
    "\n",
    "boolToStr = str(pythonScore)\n",
    "boolToFloat = float(pythonScore)\n",
    "boolToBool = bool (pythonScore)\n",
    "print(boolToStr,boolToFloat,boolToBool)"
   ]
  },
  {
   "cell_type": "code",
   "execution_count": 36,
   "id": "a1bb60c7-f174-42bd-bd49-cfa6a23f0c6f",
   "metadata": {},
   "outputs": [
    {
     "name": "stdout",
     "output_type": "stream",
     "text": [
      "0 False 0.0\n"
     ]
    }
   ],
   "source": [
    "#Casting\n",
    "\n",
    "boolToInt = int(isMarried)\n",
    "boolToStr = str(isMarried)\n",
    "boolToFloat = float(isMarried)\n",
    "print(boolToInt,boolToStr,boolToFloat)"
   ]
  },
  {
   "cell_type": "code",
   "execution_count": 40,
   "id": "57277d68-8009-40c0-91d6-26b05c5d6ca0",
   "metadata": {},
   "outputs": [
    {
     "name": "stdout",
     "output_type": "stream",
     "text": [
      "B\n",
      "g\n"
     ]
    }
   ],
   "source": [
    "#String adalah kumpulan dari beberapa karakter dan Immutable\n",
    "city = \"Bandung\"\n",
    "panjang = len(city)\n",
    "print(city[0])\n",
    "print(city[panjang-1])"
   ]
  },
  {
   "cell_type": "code",
   "execution_count": 44,
   "id": "4487bc19-bacf-462b-a1a3-b1f957f942da",
   "metadata": {},
   "outputs": [
    {
     "name": "stdout",
     "output_type": "stream",
     "text": [
      "Nilai desimal: 500\n",
      "Nilai biner: 15\n",
      "Nilai octal: 255\n",
      "Nilai hexa: 255\n",
      "Biner dari  500 : 0b111110100\n",
      "Octal dari  500 : 0o764\n",
      "Hexadesimal dari  500 : 0x1f4\n"
     ]
    }
   ],
   "source": [
    "desimal = 500\n",
    "biner = 0b1111\n",
    "octal = 0o377\n",
    "hexa = 0xff\n",
    "\n",
    "print(\"Nilai desimal:\",desimal)\n",
    "print(\"Nilai biner:\",biner)\n",
    "print(\"Nilai octal:\",octal)\n",
    "print(\"Nilai hexa:\",hexa)\n",
    "\n",
    "print(\"Biner dari \",desimal,\":\",bin(desimal))\n",
    "print(\"Octal dari \",desimal,\":\",oct(desimal))\n",
    "print(\"Hexadesimal dari \",desimal,\":\",hex(desimal))"
   ]
  },
  {
   "cell_type": "code",
   "execution_count": 62,
   "id": "818815c6-2bd7-4084-b9d9-7ba7fa860cdd",
   "metadata": {},
   "outputs": [
    {
     "name": "stdout",
     "output_type": "stream",
     "text": [
      "['Sukabumi', 'Malang', 'Bandung', 'Surabaya']\n",
      "Sukabumi\n",
      "Surabaya\n",
      "['Sukabumi', 'Jakarta', 'Bandung', 'Surabaya']\n",
      "('Fangirling', 'Baca AU', 'Scroll Instagram')\n",
      "Fangirling\n",
      "[{'name': 'Ica', 'age': 19, 'address': {'street': 'Jl. Sekarwangi', 'number': 19, 'province': 'Kab. Sukabumi'}}, {'name': 'Mark', 'age': 21, 'address': {'street': 'Jl. Toronto', 'number': 20, 'province': 'Kab. Kanadha'}}]\n",
      "Ica\n",
      "Kab. Sukabumi\n"
     ]
    }
   ],
   "source": [
    "#Tipe data Collection\n",
    "cities = [\"Sukabumi\",\"Malang\",\"Bandung\",\"Surabaya\"]\n",
    "print(cities)\n",
    "print(cities[0])\n",
    "print(cities[len(cities)-1])\n",
    "cities[1] = \"Jakarta\"\n",
    "print(cities)\n",
    "\n",
    "hobbies = (\"Fangirling\",\"Baca AU\",\"Scroll Instagram\")\n",
    "print(hobbies)\n",
    "print(hobbies[0])\n",
    "#hobbies[0] = \"Watching Netflix\" error program\n",
    "studentList =[\n",
    "    {\n",
    "        \"name\" : \"Ica\",\n",
    "        \"age\" : 19,\n",
    "        \"address\" : {\n",
    "            \"street\" : \"Jl. Sekarwangi\",\n",
    "            \"number\" : 19,\n",
    "            \"province\" : \"Kab. Sukabumi\"\n",
    "        }\n",
    "    },\n",
    "    {\n",
    "        \"name\" : \"Mark\",\n",
    "        \"age\" : 21,\n",
    "        \"address\" : {\n",
    "            \"street\" : \"Jl. Toronto\",\n",
    "            \"number\" : 20,\n",
    "            \"province\" : \"Kab. Kanadha\" \n",
    "        }\n",
    "    }\n",
    "]\n",
    "      \n",
    "print(studentList)\n",
    "print(studentData[\"name\"])\n",
    "print(studentData[\"address\"][\"province\"])"
   ]
  }
 ],
 "metadata": {
  "kernelspec": {
   "display_name": "Python [conda env:base] *",
   "language": "python",
   "name": "conda-base-py"
  },
  "language_info": {
   "codemirror_mode": {
    "name": "ipython",
    "version": 3
   },
   "file_extension": ".py",
   "mimetype": "text/x-python",
   "name": "python",
   "nbconvert_exporter": "python",
   "pygments_lexer": "ipython3",
   "version": "3.12.7"
  }
 },
 "nbformat": 4,
 "nbformat_minor": 5
}
