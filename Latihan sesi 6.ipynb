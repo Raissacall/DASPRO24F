{
 "cells": [
  {
   "cell_type": "code",
   "execution_count": 11,
   "id": "a1c12fd9-63c0-4282-907f-be42a0e60d6d",
   "metadata": {},
   "outputs": [
    {
     "name": "stdin",
     "output_type": "stream",
     "text": [
      "Isikan Umur Anda : 80\n"
     ]
    },
    {
     "name": "stdout",
     "output_type": "stream",
     "text": [
      "Kategori : Lansia\n"
     ]
    }
   ],
   "source": [
    "usia = int(input(\"Isikan Umur Anda :\"))\n",
    "if usia <= 12:\n",
    "    print(\"Kategori : Anak\")\n",
    "elif usia <= 17:\n",
    "    print(\"Kategori : Remaja\")\n",
    "elif usia <= 59:\n",
    "    print(\"Kategori : Dewasa\")\n",
    "else:\n",
    "    print(\"Kategori : Lansia\")"
   ]
  },
  {
   "cell_type": "code",
   "execution_count": 19,
   "id": "bd1466e0-180c-407f-bc81-e8cee3ea950c",
   "metadata": {},
   "outputs": [
    {
     "name": "stdin",
     "output_type": "stream",
     "text": [
      "Isikan Umur Anda : -8\n"
     ]
    },
    {
     "name": "stdout",
     "output_type": "stream",
     "text": [
      "Umur Tidak Valid\n"
     ]
    }
   ],
   "source": [
    "usia = int(input(\"Isikan Umur Anda :\"))\n",
    "if usia >=0:\n",
    "    if usia <= 12:\n",
    "        print(\"Kategori : Anak\")\n",
    "    elif usia <=17:\n",
    "        print(\"Kategori : Remaja\")\n",
    "    elif usia <=59:\n",
    "        print(\"Kategori : Dewasa\")\n",
    "    else:\n",
    "        print(\"Kategori : Lansia\")\n",
    "else:\n",
    "    print(\"Umur Tidak Valid\")"
   ]
  },
  {
   "cell_type": "code",
   "execution_count": 51,
   "id": "dd028cb5-1424-4310-bcbf-4c532fb9eb67",
   "metadata": {},
   "outputs": [
    {
     "name": "stdin",
     "output_type": "stream",
     "text": [
      "Isikan Umur Tiket 1: 12\n",
      "Isikan Umur Tiket 2: 18\n",
      "Isikan Umur Tiket 3: 60\n"
     ]
    },
    {
     "name": "stdout",
     "output_type": "stream",
     "text": [
      "Tiket 1 : 10.000\n",
      "Tiket 2 : 25.000\n",
      "Tiket 3 : Gratis\n",
      " totalBiaya:35000\n"
     ]
    }
   ],
   "source": [
    "tiket1 = int(input(\"Isikan Umur Tiket 1:\"))\n",
    "tiket2 = int(input(\"Isikan Umur Tiket 2:\"))\n",
    "tiket3 = int(input(\"Isikan Umur Tiket 3:\"))\n",
    "\n",
    "totalBiaya = 0\n",
    "if tiket1 <13:\n",
    "    print(\"Tiket 1 : 10.000\")\n",
    "    totalBiaya = totalBiaya + 10000\n",
    "elif tiket1 <18:\n",
    "    print(\"Tiket 1 : 15.000\")\n",
    "    totalBiaya = totalBiaya + 15000\n",
    "elif tiket1 <60:\n",
    "    print(\"Tiket 1 : 25.000\")\n",
    "    totalBiaya = totalBiaya + 25000\n",
    "else: \n",
    "    print(\"Tiket 1 : Gratis\")\n",
    "\n",
    "######################################################################\n",
    "if tiket2 <13:\n",
    "    print(\"Tiket 2 : 10.000\")\n",
    "    totalBiaya = totalBiaya + 10000\n",
    "elif tiket2 <18:\n",
    "    print(\"Tiket 2 : 15.000\")\n",
    "    totalBiaya = totalBiaya + 15000\n",
    "elif tiket2 <60:\n",
    "    print(\"Tiket 2 : 25.000\")\n",
    "    totalBiaya = totalBiaya + 25000\n",
    "else: \n",
    "    print(\"Tiket 2 : Gratis\")\n",
    "\n",
    "#######################################\n",
    "if tiket3 <13:\n",
    "    print(\"Tiket 3 : 10.000\")\n",
    "    totalBiaya = totalBiaya + 10000\n",
    "elif tiket3 <18:\n",
    "    print(\"Tiket 3 : 15.000\")\n",
    "    totalBiaya = totalBiaya + 15000\n",
    "elif tiket3 <60:\n",
    "    print(\"Tiket 3 : 25.000\")\n",
    "    totalBiaya = totalBiaya + 25000\n",
    "else: \n",
    "    print(\"Tiket 3 : Gratis\")\n",
    "print(f\" totalBiaya:{totalBiaya}\")"
   ]
  },
  {
   "cell_type": "code",
   "execution_count": 55,
   "id": "583fc4f9-ff8e-4386-b3c8-0108f84e001f",
   "metadata": {},
   "outputs": [
    {
     "name": "stdin",
     "output_type": "stream",
     "text": [
      "Masukan Nilai Raport 95\n",
      "Isikan Penghasilan Ortu 4000000\n"
     ]
    },
    {
     "name": "stdout",
     "output_type": "stream",
     "text": [
      "Mendapatkan Beasiswa Penuh\n"
     ]
    }
   ],
   "source": [
    "NilaiRaport = int(input(\"Masukan Nilai Raport\"))\n",
    "penghasilanOrtu = int(input(\"Isikan Penghasilan Ortu\"))\n",
    "\n",
    "if NilaiRaport >= 90 and penghasilanOrtu <5000000:\n",
    "    print(\"Mendapatkan Beasiswa Penuh\")\n",
    "elif NilaiRaport >= 85 and penghasilanOrtu <8000000:\n",
    "    print(\"Mendapatkan Beasiswa 50%\")\n",
    "else:\n",
    "    print(\"Tidak Mendapatkan Beasiswa\")"
   ]
  },
  {
   "cell_type": "code",
   "execution_count": 59,
   "id": "087f6d5d-a534-42c6-9e46-d0b038263824",
   "metadata": {},
   "outputs": [
    {
     "name": "stdin",
     "output_type": "stream",
     "text": [
      "Masukan motor/mobil:  mobil\n",
      "Jam Masuk:  7\n",
      "Jam Keluar:  23\n"
     ]
    },
    {
     "name": "stdout",
     "output_type": "stream",
     "text": [
      "Tarif mobil: 5000\n",
      "Lama Parkir: 16 jam\n",
      "Tambahan Biaya Lebih 5 Jam: 10000\n",
      "Total Tarif Parkir: 90000\n"
     ]
    }
   ],
   "source": [
    "jenisKendaraan = input(\"Masukan motor/mobil: \")\n",
    "jamMasuk = int(input(\"Jam Masuk: \"))\n",
    "jamKeluar = int(input(\"Jam Keluar: \"))\n",
    "\n",
    "tarifPerjam = 0\n",
    "if jenisKendaraan == \"motor\":\n",
    "    tarifPerjam = 2000\n",
    "elif jenisKendaraan == \"mobil\":\n",
    "    tarifPerjam = 5000\n",
    "else:\n",
    "    print(\"Tidak menerima selain mobil atau motor\")\n",
    "\n",
    "if jamMasuk >= jamKeluar:\n",
    "    print(\"Input Jam Masuk/Jam Keluar Salah!\")\n",
    "else:\n",
    "    totalTarif = (jamKeluar - jamMasuk)*tarifPerjam\n",
    "\n",
    "print(f\"Tarif {jenisKendaraan}: {tarifPerjam}\")\n",
    "print(f\"Lama Parkir: {jamKeluar-jamMasuk} jam\")\n",
    "\n",
    "if jamKeluar - jamMasuk > 5:\n",
    "    totalTarif += 10000\n",
    "print(\"Tambahan Biaya Lebih 5 Jam: 10000\")\n",
    "print(f\"Total Tarif Parkir: {totalTarif}\")"
   ]
  },
  {
   "cell_type": "code",
   "execution_count": 69,
   "id": "8da140cf-62d5-40d5-a326-b4414637a747",
   "metadata": {},
   "outputs": [
    {
     "name": "stdin",
     "output_type": "stream",
     "text": [
      "Nomor Punggung : 91\n"
     ]
    },
    {
     "name": "stdout",
     "output_type": "stream",
     "text": [
      "Kamu mempunyai pilihan posisi : Defender,Playmaker, \n"
     ]
    }
   ],
   "source": [
    "nomorPunggung = int(input(\"Nomor Punggung :\"))\n",
    "posisi = \"\"\n",
    "if nomorPunggung % 2 == 0:\n",
    "    posisi += \"Target Attacker,\"\n",
    "    if nomorPunggung >=50 and nomorPunggung <=100:\n",
    "        posisi += \"Berhak dipilih menjadi Capten,\"\n",
    "else:\n",
    "    posisi += \"Defender,\"\n",
    "    if nomorPunggung > 90:\n",
    "        posisi += \"Playmaker,\"\n",
    "    if nomorPunggung % 3 == 0 and nomorPunggung % 5 ==0:\n",
    "        posisi += \"Keeper,\"\n",
    "print(f\"Kamu mempunyai pilihan posisi : {posisi} \")"
   ]
  }
 ],
 "metadata": {
  "kernelspec": {
   "display_name": "Python [conda env:base] *",
   "language": "python",
   "name": "conda-base-py"
  },
  "language_info": {
   "codemirror_mode": {
    "name": "ipython",
    "version": 3
   },
   "file_extension": ".py",
   "mimetype": "text/x-python",
   "name": "python",
   "nbconvert_exporter": "python",
   "pygments_lexer": "ipython3",
   "version": "3.12.7"
  }
 },
 "nbformat": 4,
 "nbformat_minor": 5
}
