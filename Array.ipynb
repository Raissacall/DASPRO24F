{
 "cells": [
  {
   "cell_type": "code",
   "execution_count": 1,
   "id": "2d75d1d1-f22c-44cc-bf2b-12917d5a8c86",
   "metadata": {},
   "outputs": [],
   "source": [
    "import numpy as np"
   ]
  },
  {
   "cell_type": "code",
   "execution_count": 29,
   "id": "88c9b988-f877-4607-83df-607b113f4119",
   "metadata": {},
   "outputs": [],
   "source": [
    "#matrix 1D\n",
    "mat1D = np.array([1,2,3,4,5,6,7,8,9,10])\n",
    "mat2D = np.array([[1,2,3],[4,5,6],[7,8,9]])"
   ]
  },
  {
   "cell_type": "code",
   "execution_count": 23,
   "id": "1e983858-961c-4ee6-be25-9b0fdbea0655",
   "metadata": {},
   "outputs": [
    {
     "name": "stdout",
     "output_type": "stream",
     "text": [
      "[ 1  2  3  4  5  6  7  8  9 10]\n"
     ]
    }
   ],
   "source": [
    "print(mat1D)"
   ]
  },
  {
   "cell_type": "code",
   "execution_count": 25,
   "id": "c141c239-30de-4a08-bc34-8b2d80421cf4",
   "metadata": {},
   "outputs": [
    {
     "name": "stdout",
     "output_type": "stream",
     "text": [
      "1\n"
     ]
    }
   ],
   "source": [
    "print(mat1D[0])"
   ]
  },
  {
   "cell_type": "code",
   "execution_count": 27,
   "id": "8b6c596c-99fe-41a2-8c45-b42cbf75d38a",
   "metadata": {},
   "outputs": [
    {
     "name": "stdout",
     "output_type": "stream",
     "text": [
      "[ 6  7  8  9 10 11 12 13 14 15]\n"
     ]
    }
   ],
   "source": [
    "print(mat1D + 5)"
   ]
  },
  {
   "cell_type": "code",
   "execution_count": 31,
   "id": "5ffbc9d9-ca44-4516-bce2-e3dcc330db10",
   "metadata": {},
   "outputs": [
    {
     "name": "stdout",
     "output_type": "stream",
     "text": [
      "[[1 2 3]\n",
      " [4 5 6]\n",
      " [7 8 9]]\n"
     ]
    }
   ],
   "source": [
    "print(mat2D)"
   ]
  },
  {
   "cell_type": "code",
   "execution_count": 33,
   "id": "57140126-d2ed-4873-ab28-552a36187ef8",
   "metadata": {},
   "outputs": [
    {
     "name": "stdout",
     "output_type": "stream",
     "text": [
      "[1 2 3]\n",
      "[4 5 6]\n",
      "[7 8 9]\n"
     ]
    }
   ],
   "source": [
    "print(mat2D[0])\n",
    "print(mat2D[1])\n",
    "print(mat2D[2])"
   ]
  },
  {
   "cell_type": "code",
   "execution_count": 35,
   "id": "fd6aba81-e998-4e7a-9e4c-6660f951cd8d",
   "metadata": {},
   "outputs": [
    {
     "name": "stdout",
     "output_type": "stream",
     "text": [
      "3\n"
     ]
    }
   ],
   "source": [
    "print(mat2D[0] [2])"
   ]
  },
  {
   "cell_type": "code",
   "execution_count": 37,
   "id": "507a3011-1076-48d2-b9f1-ecd1c9d5c624",
   "metadata": {},
   "outputs": [
    {
     "name": "stdout",
     "output_type": "stream",
     "text": [
      "[[10 20 30]\n",
      " [40 50 60]\n",
      " [70 80 90]]\n"
     ]
    }
   ],
   "source": [
    "print(mat2D * 10)"
   ]
  },
  {
   "cell_type": "code",
   "execution_count": 39,
   "id": "11c44820-17ea-4a20-a6d8-6afa38578d67",
   "metadata": {},
   "outputs": [
    {
     "name": "stdout",
     "output_type": "stream",
     "text": [
      "(10,)\n",
      "(3, 3)\n"
     ]
    }
   ],
   "source": [
    "print(mat1D.shape)\n",
    "print(mat2D.shape)"
   ]
  },
  {
   "cell_type": "code",
   "execution_count": 41,
   "id": "b92a366f-ea9a-4184-a82f-6e9cc78c1ebf",
   "metadata": {},
   "outputs": [
    {
     "name": "stdout",
     "output_type": "stream",
     "text": [
      "10\n",
      "9\n"
     ]
    }
   ],
   "source": [
    "print(mat1D.size)\n",
    "print(mat2D.size)"
   ]
  },
  {
   "cell_type": "code",
   "execution_count": 67,
   "id": "95ddc809-4a97-4f5f-9917-96a8cbb78ae0",
   "metadata": {},
   "outputs": [],
   "source": [
    "#Spesial Matris\n",
    "mZero = np.zeros((3,3))\n",
    "mIdentity = np.eye((4))\n",
    "mFull = np.full((4,4),7)\n",
    "mOne = np.ones((5,4))\n",
    "mRandomFloat = np.random.rand(5,5)\n",
    "mRandomInt = np.random.randint(10,101, size=6)"
   ]
  },
  {
   "cell_type": "code",
   "execution_count": 53,
   "id": "bd8f25ff-6575-43e4-8a44-bd16495963c6",
   "metadata": {},
   "outputs": [
    {
     "name": "stdout",
     "output_type": "stream",
     "text": [
      "[[0. 0. 0.]\n",
      " [0. 0. 0.]\n",
      " [0. 0. 0.]]\n"
     ]
    }
   ],
   "source": [
    "print(mZero)"
   ]
  },
  {
   "cell_type": "code",
   "execution_count": 57,
   "id": "e5a1e7d2-6744-4e2d-9ce9-f823239c3379",
   "metadata": {},
   "outputs": [
    {
     "name": "stdout",
     "output_type": "stream",
     "text": [
      "[[1. 0. 0. 0.]\n",
      " [0. 1. 0. 0.]\n",
      " [0. 0. 1. 0.]\n",
      " [0. 0. 0. 1.]]\n"
     ]
    }
   ],
   "source": [
    "print(mIdentity)"
   ]
  },
  {
   "cell_type": "code",
   "execution_count": 61,
   "id": "91e94a83-5f0b-4ba9-813e-e729f6a08d57",
   "metadata": {},
   "outputs": [
    {
     "name": "stdout",
     "output_type": "stream",
     "text": [
      "[[1. 1. 1. 1.]\n",
      " [1. 1. 1. 1.]\n",
      " [1. 1. 1. 1.]\n",
      " [1. 1. 1. 1.]\n",
      " [1. 1. 1. 1.]]\n"
     ]
    }
   ],
   "source": [
    "print(mOne)"
   ]
  },
  {
   "cell_type": "code",
   "execution_count": 65,
   "id": "12904a1b-3f0f-4a3f-9f43-fd01cee05b20",
   "metadata": {},
   "outputs": [
    {
     "name": "stdout",
     "output_type": "stream",
     "text": [
      "[[0.73028847 0.35505674 0.95162351 0.22133638 0.04807916]\n",
      " [0.4284577  0.9185604  0.03755137 0.92325336 0.43527153]\n",
      " [0.86803215 0.20032096 0.6533848  0.93798035 0.46758928]\n",
      " [0.03026857 0.58015951 0.81788045 0.83868316 0.91947153]\n",
      " [0.14072938 0.59411978 0.87539049 0.23254703 0.26122443]]\n"
     ]
    }
   ],
   "source": [
    "print(mRandomFloat)"
   ]
  },
  {
   "cell_type": "code",
   "execution_count": 69,
   "id": "b0350646-5ef7-4790-9c76-d06abb3b3205",
   "metadata": {},
   "outputs": [
    {
     "name": "stdout",
     "output_type": "stream",
     "text": [
      "[49 52 72 93 38 81]\n"
     ]
    }
   ],
   "source": [
    "print(mRandomInt)"
   ]
  },
  {
   "cell_type": "code",
   "execution_count": 81,
   "id": "34e67dbb-71f7-417b-a808-45af71ae8474",
   "metadata": {},
   "outputs": [
    {
     "name": "stdout",
     "output_type": "stream",
     "text": [
      "65\n",
      "Hasil dari dot Product : 65\n",
      "Hasil Penjumlahan matriks : [ 3  9 14]\n",
      "Nilai minimum dari [2 6 9] : 2\n",
      "Nilai maksimum dari [1 3 5] : 5\n",
      "Rata-rata Nilai dari [1 3 5] : 3.0\n",
      "Nilai median dari [1 3 5] :3.0\n",
      "Nilai Deviasi dari [1 3 5] : 1.632993161855452\n"
     ]
    }
   ],
   "source": [
    "x = np.array([2,6,9])\n",
    "y = np.array([1,3,5])\n",
    "\n",
    "dotProduct = np.dot(x,y)\n",
    "addMatrix = np.add(x,y)\n",
    "minValue = np.min(x)\n",
    "maxValue = np.max(y)\n",
    "meanValue = np.mean(y)\n",
    "medianValue = np.median(y)\n",
    "stdValue = np.std(y)\n",
    "print(dotProduct)\n",
    "print(f\"Hasil dari dot Product : {dotProduct}\")\n",
    "print(f\"Hasil Penjumlahan matriks : {addMatrix}\")\n",
    "print(f\"Nilai minimum dari {x} : {minValue}\")\n",
    "print(f\"Nilai maksimum dari {y} : {maxValue}\")\n",
    "print(f\"Rata-rata Nilai dari {y} : {meanValue}\")\n",
    "print(f\"Nilai median dari {y} :{medianValue}\")\n",
    "print(f\"Nilai Deviasi dari {y} : {stdValue}\")"
   ]
  },
  {
   "cell_type": "code",
   "execution_count": 83,
   "id": "0fa9d074-b0ee-4519-bea5-e1066c08209e",
   "metadata": {},
   "outputs": [
    {
     "name": "stdout",
     "output_type": "stream",
     "text": [
      "[[1]\n",
      " [2]\n",
      " [3]\n",
      " [4]\n",
      " [5]\n",
      " [6]\n",
      " [7]\n",
      " [8]\n",
      " [9]]\n",
      "[1 2 3 4 5 6 7 8 9]\n"
     ]
    }
   ],
   "source": [
    "myArray = np.array([[1,2,3],[4,5,6],[7,8,9]])\n",
    "\n",
    "reshape = myArray.reshape(9,1)\n",
    "flatten = myArray.flatten()\n",
    "\n",
    "print(reshape)\n",
    "print(flatten)"
   ]
  },
  {
   "cell_type": "code",
   "execution_count": 85,
   "id": "94644ea2-23fb-45c8-8c8f-d0831cd135f1",
   "metadata": {},
   "outputs": [
    {
     "name": "stdout",
     "output_type": "stream",
     "text": [
      "[ 80  90  60 100  95]\n",
      "Jumlah Siswa yang lulus:5\n"
     ]
    }
   ],
   "source": [
    "#Filtering\n",
    "nilaiSiswa = np.array([80,90,60,50,50,100,95])\n",
    "lulus = nilaiSiswa[nilaiSiswa > 50]\n",
    "jumlah = lulus.size\n",
    "print(lulus)\n",
    "print(f\"Jumlah Siswa yang lulus:{jumlah}\")"
   ]
  }
 ],
 "metadata": {
  "kernelspec": {
   "display_name": "Python [conda env:base] *",
   "language": "python",
   "name": "conda-base-py"
  },
  "language_info": {
   "codemirror_mode": {
    "name": "ipython",
    "version": 3
   },
   "file_extension": ".py",
   "mimetype": "text/x-python",
   "name": "python",
   "nbconvert_exporter": "python",
   "pygments_lexer": "ipython3",
   "version": "3.12.7"
  }
 },
 "nbformat": 4,
 "nbformat_minor": 5
}
