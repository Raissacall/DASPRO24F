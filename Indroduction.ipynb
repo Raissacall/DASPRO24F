{
 "cells": [
  {
   "cell_type": "markdown",
   "id": "65d6bf3f-d6a7-40e4-93b8-9a897a68b822",
   "metadata": {},
   "source": [
    "<img src=\"https://upload.wikimedia.org/wikipedia/commons/1/13/Logo_Universitas_Nusa_Putra.png\" width=\"200\"></center><br>Jenis Cell di \n",
    "<b>Jupyter Notebook</b> ada 2\n",
    "<ol>\n",
    "    <li>Mark Down (M)</li>\n",
    "    <li>Code (Y)</li>\n",
    "</ol>\n",
    "<hr>"
   ]
  },
  {
   "cell_type": "markdown",
   "id": "0d0a0a01-4e7a-4500-a21f-15a2a6c06002",
   "metadata": {},
   "source": [
    "Cara menambahkan Cell ada 2:\n",
    "<ul>\n",
    "    <li>Above (A)</li>\n",
    "    <li>Below (B)</li>\n",
    "</ul>"
   ]
  }
 ],
 "metadata": {
  "kernelspec": {
   "display_name": "Python [conda env:base] *",
   "language": "python",
   "name": "conda-base-py"
  },
  "language_info": {
   "codemirror_mode": {
    "name": "ipython",
    "version": 3
   },
   "file_extension": ".py",
   "mimetype": "text/x-python",
   "name": "python",
   "nbconvert_exporter": "python",
   "pygments_lexer": "ipython3",
   "version": "3.12.7"
  }
 },
 "nbformat": 4,
 "nbformat_minor": 5
}
