{
 "cells": [
  {
   "cell_type": "code",
   "execution_count": 1,
   "id": "29e81b91-3bb8-4bc5-87ba-45107863fb8c",
   "metadata": {},
   "outputs": [
    {
     "name": "stdout",
     "output_type": "stream",
     "text": [
      "Hallo, Apa kabar\n",
      "Hallo, Apa kabar\n"
     ]
    }
   ],
   "source": [
    "#Fungsi tanpa parameter\n",
    "def greeting():\n",
    "    print(\"Hallo, Apa kabar\")\n",
    "greeting()\n",
    "greeting()"
   ]
  },
  {
   "cell_type": "code",
   "execution_count": 9,
   "id": "8f08909c-fa49-4d13-bfdf-413062f3393a",
   "metadata": {},
   "outputs": [
    {
     "name": "stdout",
     "output_type": "stream",
     "text": [
      "Sekarang tanggal:2025-05-27\n",
      "Sekarang weekday\n"
     ]
    }
   ],
   "source": [
    "import datetime\n",
    "def showDate():\n",
    "    today = datetime.date.today()\n",
    "    print(f\"Sekarang tanggal:{today}\")\n",
    "def isWeekend():\n",
    "    today = datetime.date.today().weekday()\n",
    "    if today < 5:\n",
    "        print(\"Sekarang weekday\")\n",
    "    else:\n",
    "        print(\"Sekarang weekend\")\n",
    "    \n",
    "showDate()\n",
    "isWeekend()"
   ]
  },
  {
   "cell_type": "code",
   "execution_count": 17,
   "id": "ae903a60-13af-4381-ba1d-a131dd339316",
   "metadata": {},
   "outputs": [
    {
     "name": "stdout",
     "output_type": "stream",
     "text": [
      "Raissa Callista Icengg\n",
      "Raissa Callista Icengg, S.Kom\n"
     ]
    }
   ],
   "source": [
    "#Fungsi dengan parameter, tidak ada return value\n",
    "def getFullName(first,middle,last):\n",
    "    print(f\"{first} {middle} {last}\")\n",
    "\n",
    "#Fungsi dengan parameter dan return value\n",
    "def getName(first,middle,last):\n",
    "    return f\"{first} {middle} {last}\"\n",
    "    \n",
    "getFullName(\"Raissa\",\"Callista\",\"Icengg\")\n",
    "myname = getName(\"Raissa\",\"Callista\",\"Icengg\")\n",
    "title = \"S.Kom\"\n",
    "print(f\"{myname}, {title}\")"
   ]
  },
  {
   "cell_type": "code",
   "execution_count": 19,
   "id": "24e9bb33-50e7-4d06-91c8-ea572eea5f94",
   "metadata": {},
   "outputs": [
    {
     "name": "stdout",
     "output_type": "stream",
     "text": [
      "Hasil penjumlahan 5 dan 6:11\n",
      "Hasil perkalian 10 dan 3:30\n",
      "Hasil penjumlahan 11 dan 30:41\n"
     ]
    }
   ],
   "source": [
    "#Fungsi aritmatika\n",
    "def add(num1,num2):\n",
    "    \n",
    "    return num1 + num2\n",
    "\n",
    "def multiply(num1,num2):\n",
    "    return num1 * num2\n",
    "\n",
    "r1 = add(5,6) #11\n",
    "r2 = multiply(10,3) #30\n",
    "r3 = add(r1,r2) #41\n",
    "\n",
    "print(f\"Hasil penjumlahan 5 dan 6:{r1}\")\n",
    "print(f\"Hasil perkalian 10 dan 3:{r2}\")\n",
    "print(f\"Hasil penjumlahan {r1} dan {r2}:{r3}\")"
   ]
  },
  {
   "cell_type": "code",
   "execution_count": 21,
   "id": "8477c50c-a8d8-4f86-8438-042e59a50820",
   "metadata": {},
   "outputs": [
    {
     "name": "stdout",
     "output_type": "stream",
     "text": [
      "Hasil penjumlahan:11\n",
      "Hasil perkalian:30\n"
     ]
    }
   ],
   "source": [
    "#Fungsi dengan return lebih dari 1\n",
    "def aritmatic(num1,num2):\n",
    "    add = num1 + num2\n",
    "    multiply = num1 * num2\n",
    "    return add,multiply\n",
    "\n",
    "tambah,kali = aritmatic(5,6)\n",
    "print(f\"Hasil penjumlahan:{tambah}\")\n",
    "print(f\"Hasil perkalian:{kali}\")"
   ]
  },
  {
   "cell_type": "code",
   "execution_count": 23,
   "id": "671babac-8501-4306-a6c8-7adade07d289",
   "metadata": {},
   "outputs": [
    {
     "name": "stdout",
     "output_type": "stream",
     "text": [
      "Registration is successfull\n",
      "Username:icenggUsername:icengg\n",
      "Password:654321\n",
      "Email:Raica@gmail.com\n",
      "Status:Belum Aktif\n",
      "\n",
      "Registration is successfull\n",
      "Username:icenggUsername:icengg\n",
      "Password:654321\n",
      "Email:Raica@gmail.com\n",
      "Status:Aktif\n",
      "\n",
      "Registration failed (Username must be more than 3)\n",
      "Registration failed (Username must be more than 5)\n"
     ]
    }
   ],
   "source": [
    "#Fungsi dengan nilai default\n",
    "def userRegistration(email,username,password,status=\"Belum Aktif\"):\n",
    "    result = \"\"\n",
    "    if(len(username)>3):\n",
    "        if(len(password)>5):\n",
    "            result += f\"Registration is successfull\\nUsername:{username}\"\n",
    "            result += f\"Username:{username}\\n\"\n",
    "            result += f\"Password:{password}\\n\"\n",
    "            result += f\"Email:{email}\\n\"\n",
    "            result += f\"Status:{status}\\n\"\n",
    "            return result\n",
    "        else:\n",
    "            return \"Registration failed (Username must be more than 5)\"\n",
    "            \n",
    "    else:\n",
    "        return \"Registration failed (Username must be more than 3)\"\n",
    "print(userRegistration(\"Raica@gmail.com\",\"icengg\",\"654321\"))\n",
    "print(userRegistration(\"Raica@gmail.com\",\"icengg\",\"654321\",\"Aktif\"))\n",
    "print(userRegistration(\"Raica@gmail.com\",\"ica\",\"654321\",\"Aktif\"))\n",
    "print(userRegistration(\"Raica@gmail.com\",\"icengg\",\"65432\",\"Aktif\"))"
   ]
  },
  {
   "cell_type": "code",
   "execution_count": 52,
   "id": "e34af082-7da4-4068-a215-f029aeef26ef",
   "metadata": {},
   "outputs": [
    {
     "name": "stdout",
     "output_type": "stream",
     "text": [
      "Registration failed (username must be more than 3)\n",
      "Registration failed (password must be more than 5)\n",
      "\n"
     ]
    }
   ],
   "source": [
    "#Fungsi dengan nilai default\n",
    "def checkPassword(password):\n",
    "    result = \"\"\n",
    "    if(len(password)<=5):\n",
    "        result = \"Registration failed (password must be more than 5)\\n\"\n",
    "    return result\n",
    "    \n",
    "def checkUsename(username):\n",
    "    result = \"\"\n",
    "    if(len(username)<=4):\n",
    "        result = \"Registration failed (username must be more than 3)\\n\"\n",
    "    return result\n",
    "\n",
    "def userRegistration(email,username,password,status=\"Belum Aktif\"):\n",
    "    user = checkUsename(username)\n",
    "    pwd = checkPassword(password)\n",
    "    result = \"\"\n",
    "    if(len(user) > 0):\n",
    "        result +=user\n",
    "        \n",
    "    if(len(pwd) > 0):\n",
    "        result +=pwd\n",
    "        \n",
    "    if(len(result)==0):\n",
    "        result += f\"Registration is successfull\\n\"\n",
    "        result += f\"Username:{username}\\n\"\n",
    "        result += f\"Password:{password}\\n\"\n",
    "        result += f\"Email:{email}\\n\"\n",
    "        result += f\"Status:{status}\\n\"\n",
    "    return result\n",
    "print(userRegistration(\"Raica@gmail.com\",\"ice\",\"65432\"))"
   ]
  },
  {
   "cell_type": "code",
   "execution_count": 60,
   "id": "bce15422-c701-45a6-9034-26bcb0db39fb",
   "metadata": {},
   "outputs": [
    {
     "name": "stdin",
     "output_type": "stream",
     "text": [
      "Angka 1: 2\n",
      "Angka 2: 7\n"
     ]
    },
    {
     "name": "stdout",
     "output_type": "stream",
     "text": [
      "9\n",
      "14\n",
      "128\n"
     ]
    }
   ],
   "source": [
    "import Aritmatika.math as math\n",
    "angka1 = int(input(\"Angka 1:\"))\n",
    "angka2 = int(input(\"Angka 2:\"))\n",
    "\n",
    "r1 = math.add(angka1,angka2)\n",
    "r2 = math.multiply(angka1,angka2)\n",
    "r3 = math.pow(angka1,angka2)\n",
    "print(r1)\n",
    "print(r2)\n",
    "print(r3)"
   ]
  },
  {
   "cell_type": "code",
   "execution_count": 64,
   "id": "2e70b012-7d52-4dd3-b233-7b9882f7a73e",
   "metadata": {},
   "outputs": [
    {
     "name": "stdin",
     "output_type": "stream",
     "text": [
      "Isikan Panjang: 270\n"
     ]
    },
    {
     "name": "stdout",
     "output_type": "stream",
     "text": [
      "Panjang dalam cm:270\n",
      "Panjang dalam meter:2.7\n"
     ]
    }
   ],
   "source": [
    "from Konversi.convert import cmToMeter as cToM\n",
    "\n",
    "angka = int(input(\"Isikan Panjang:\"))\n",
    "r1 = cToM(angka)\n",
    "print(f\"Panjang dalam cm:{angka}\")\n",
    "print(f\"Panjang dalam meter:{r1}\")"
   ]
  },
  {
   "cell_type": "code",
   "execution_count": 68,
   "id": "8719c5be-2e3d-451b-b7aa-d924eab7ed06",
   "metadata": {},
   "outputs": [
    {
     "name": "stdin",
     "output_type": "stream",
     "text": [
      "Isikan Panjang: 230\n"
     ]
    },
    {
     "name": "stdout",
     "output_type": "stream",
     "text": [
      "Panjang dalam cm:23000\n",
      "Panjang dalam meter:2.3\n"
     ]
    }
   ],
   "source": [
    "from Konversi.convert import cmToMeter, meterToCm\n",
    "\n",
    "angka = int(input(\"Isikan Panjang:\"))\n",
    "cm = meterToCm(angka)\n",
    "m = cmToMeter(angka)\n",
    "print(f\"Panjang dalam cm:{cm}\")\n",
    "print(f\"Panjang dalam meter:{m}\")"
   ]
  },
  {
   "cell_type": "code",
   "execution_count": 70,
   "id": "6afe3bc4-40a5-4b63-a46d-763725c01a02",
   "metadata": {},
   "outputs": [
    {
     "name": "stdin",
     "output_type": "stream",
     "text": [
      "Isikan panjang dalam (meter) 25\n",
      "isikan panjang dalam (centimeter) 21\n"
     ]
    },
    {
     "name": "stdout",
     "output_type": "stream",
     "text": [
      "panjang dalam cm : 23000\n",
      "panjang dalam meter : 2.3\n"
     ]
    }
   ],
   "source": [
    "from Konversi.convert import cmToMeter, meterToCm\n",
    "\n",
    "meter = int(input(\"Isikan panjang dalam (meter)\"))\n",
    "cm = int(input(\"isikan panjang dalam (centimeter)\"))\n",
    "\n",
    "r1 = meterToCm(angka)\n",
    "r2= cmToMeter(angka)\n",
    "print(f\"panjang dalam cm : {r1}\")\n",
    "print(f\"panjang dalam meter : {r2}\")"
   ]
  }
 ],
 "metadata": {
  "kernelspec": {
   "display_name": "Python [conda env:base] *",
   "language": "python",
   "name": "conda-base-py"
  },
  "language_info": {
   "codemirror_mode": {
    "name": "ipython",
    "version": 3
   },
   "file_extension": ".py",
   "mimetype": "text/x-python",
   "name": "python",
   "nbconvert_exporter": "python",
   "pygments_lexer": "ipython3",
   "version": "3.12.7"
  }
 },
 "nbformat": 4,
 "nbformat_minor": 5
}
