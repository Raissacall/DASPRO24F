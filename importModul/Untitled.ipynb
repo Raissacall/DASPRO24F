{
 "cells": [
  {
   "cell_type": "code",
   "execution_count": 10,
   "id": "eb527905-4ff4-4fc6-9de3-666100f1e99b",
   "metadata": {},
   "outputs": [],
   "source": [
    "def aritmetik():\n",
    "    num1 = int(input(\"Masukan angka pertama: \"))\n",
    "    num2 = int(input(\"Masukan angka kedua: \"))\n",
    "    print(\"\"\"\n",
    "    Pilih Metode:\n",
    "    1. Penjumlahan\n",
    "    2. Perkalian\n",
    "    3. Perpangkatan\n",
    "    \"\"\")\n",
    "    choice = int(input(\"(1/2/3): \"))\n",
    "    if choice == 1:\n",
    "        r1 = math.add(num1,num2)\n",
    "        print(r1)\n",
    "    elif choice == 2:\n",
    "        r2 = math.multiply(num1,num2)\n",
    "        print(r2)\n",
    "    elif choice == 3:\n",
    "        r3 = math.pow(num1,num2)\n",
    "        print(r3)\n",
    "    else:\n",
    "        print(\"Input tidak valid!\")"
   ]
  },
  {
   "cell_type": "code",
   "execution_count": null,
   "id": "d33cfe87-5489-411c-9222-fb745ea6c6fd",
   "metadata": {},
   "outputs": [],
   "source": [
    "def aritmetik():\n",
    "    num1 = int(input(\"Masukan angka pertama: \"))\n",
    "    num2 = int(input(\"Masukan angka kedua: \"))\n",
    "    print(\"\"\"\n",
    "    pilih metode:\n",
    "    1. Penjumlahan\n",
    "    2. Perkalian\n",
    "    3. Perpangkatan\n",
    "    \"\"\")\n",
    "    choice = int(input(\"(1/2/3): \"))\n",
    "    if choice == 1:\n",
    "        r1 = math.add(num1,num2)\n",
    "        print(r1)"
   ]
  }
 ],
 "metadata": {
  "kernelspec": {
   "display_name": "Python [conda env:base] *",
   "language": "python",
   "name": "conda-base-py"
  },
  "language_info": {
   "codemirror_mode": {
    "name": "ipython",
    "version": 3
   },
   "file_extension": ".py",
   "mimetype": "text/x-python",
   "name": "python",
   "nbconvert_exporter": "python",
   "pygments_lexer": "ipython3",
   "version": "3.12.7"
  }
 },
 "nbformat": 4,
 "nbformat_minor": 5
}
