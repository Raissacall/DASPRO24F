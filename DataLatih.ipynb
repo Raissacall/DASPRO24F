{
 "cells": [
  {
   "cell_type": "markdown",
   "id": "af408684-16e7-4763-835d-94b4d93e79ee",
   "metadata": {},
   "source": [
    "<b>Project</b>\n",
    "Buatlah Data latih sederhana untuk klasifikasi data berdasarkan\n",
    "<ol>\n",
    "    <li>Usia : 18 - 60</li>\n",
    "    <li>Transaksi perbulan : 0-50</li>\n",
    "    <li>Label : Loyal , Tidak Loyal (1)</li>\n",
    "    <li>Gender</li>\n",
    "</ol>"
   ]
  },
  {
   "cell_type": "code",
   "execution_count": 11,
   "id": "12a4a10e-ce43-4369-9c2f-03ee8100df46",
   "metadata": {},
   "outputs": [
    {
     "name": "stdout",
     "output_type": "stream",
     "text": [
      "<class 'pandas.core.frame.DataFrame'>\n",
      "RangeIndex: 100 entries, 0 to 99\n",
      "Data columns (total 4 columns):\n",
      " #   Column     Non-Null Count  Dtype \n",
      "---  ------     --------------  ----- \n",
      " 0   Usia       100 non-null    int32 \n",
      " 1   Transaksi  100 non-null    int32 \n",
      " 2   label      100 non-null    int32 \n",
      " 3   Gender     100 non-null    object\n",
      "dtypes: int32(3), object(1)\n",
      "memory usage: 2.1+ KB\n"
     ]
    }
   ],
   "source": [
    "import numpy as np\n",
    "import pandas as pd\n",
    "\n",
    "n_data = 100\n",
    "\n",
    "usia = np.random.randint(18,61,size=n_data)\n",
    "transaksi = np.random.randint(0,51, size=n_data)\n",
    "label = np.random.randint(0,2,size=n_data)\n",
    "gender = np.random.choice(['L','P'],size=n_data)\n",
    "\n",
    "df = pd.DataFrame({\n",
    "    'Usia' : usia,\n",
    "    'Transaksi' : transaksi,\n",
    "    'label' : label,\n",
    "    'Gender' : gender\n",
    "})\n",
    "\n",
    "df.to_csv('dataLatih.csv',index=False)\n",
    "df.head # mengetahui 5 baris pertama dari isi dataframe\n",
    "\n",
    "\n",
    "df.info()"
   ]
  },
  {
   "cell_type": "code",
   "execution_count": 13,
   "id": "2e3846f9-0418-4e8d-91d0-81a2f320abb6",
   "metadata": {},
   "outputs": [
    {
     "name": "stdout",
     "output_type": "stream",
     "text": [
      "<class 'pandas.core.frame.DataFrame'>\n",
      "RangeIndex: 100 entries, 0 to 99\n",
      "Data columns (total 4 columns):\n",
      " #   Column     Non-Null Count  Dtype \n",
      "---  ------     --------------  ----- \n",
      " 0   Usia       100 non-null    int32 \n",
      " 1   Transaksi  100 non-null    int32 \n",
      " 2   label      100 non-null    int32 \n",
      " 3   Gender     100 non-null    object\n",
      "dtypes: int32(3), object(1)\n",
      "memory usage: 2.1+ KB\n"
     ]
    }
   ],
   "source": [
    "df.info()"
   ]
  },
  {
   "cell_type": "code",
   "execution_count": null,
   "id": "ee2a5fff-dd42-4ee8-9621-c9618b7588e8",
   "metadata": {},
   "outputs": [],
   "source": [
    "df"
   ]
  },
  {
   "cell_type": "code",
   "execution_count": null,
   "id": "26b2fd58-1af5-472f-885f-b80f4a15157f",
   "metadata": {},
   "outputs": [],
   "source": [
    "df.size"
   ]
  },
  {
   "cell_type": "code",
   "execution_count": null,
   "id": "8eaafa4a-7b76-40e0-a1f3-dc570a4aceda",
   "metadata": {},
   "outputs": [],
   "source": [
    "df.shape"
   ]
  },
  {
   "cell_type": "code",
   "execution_count": null,
   "id": "9492699c-fca9-4cf9-a8fd-6bcba0140fb6",
   "metadata": {},
   "outputs": [],
   "source": [
    "minAge = df['Usia'].min()\n",
    "meanAge = df['Usia'].mean()\n",
    "maxAge = df['Usia'].max()\n",
    "print(f\"Usia Minimum : {minAge}\")\n",
    "print(f\"Rata-rata : "
   ]
  }
 ],
 "metadata": {
  "kernelspec": {
   "display_name": "Python [conda env:base] *",
   "language": "python",
   "name": "conda-base-py"
  },
  "language_info": {
   "codemirror_mode": {
    "name": "ipython",
    "version": 3
   },
   "file_extension": ".py",
   "mimetype": "text/x-python",
   "name": "python",
   "nbconvert_exporter": "python",
   "pygments_lexer": "ipython3",
   "version": "3.12.7"
  }
 },
 "nbformat": 4,
 "nbformat_minor": 5
}
