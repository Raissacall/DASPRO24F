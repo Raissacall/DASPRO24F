{
 "cells": [
  {
   "cell_type": "markdown",
   "id": "53927d74",
   "metadata": {},
   "source": [
    "<h1>Operator Aritmatika</h1>"
   ]
  },
  {
   "cell_type": "code",
   "execution_count": 2,
   "id": "c9f12665",
   "metadata": {},
   "outputs": [
    {
     "name": "stdout",
     "output_type": "stream",
     "text": [
      "Isikan Nilai x:50\n",
      "Isikan Nilai y:3\n",
      "Hasil Penjumlahan 50 + 3 = 53\n",
      "Hasil Penngurangan 50 - 3 = 47\n",
      "Hasil Perkalian 50 * 3 = 150\n",
      "Hasil Pembagian 50 / 3 = 16.666666666666668\n",
      "Hasil Modulus 50 % 3 = 2\n",
      "Hasil Pangkat 50 ** 3 = 125000\n",
      "Hasil Pembagian Bulat 50 // 3 = 16\n"
     ]
    }
   ],
   "source": [
    "x = input(\"Isikan Nilai x:\")\n",
    "y = input(\"Isikan Nilai y:\")\n",
    "x = int(x)\n",
    "y = int(y)\n",
    "hasilTambah = x + y\n",
    "hasilKurang = x - y\n",
    "hasilKali = x * y\n",
    "hasilBagi = x / y\n",
    "hasilMod = x % y\n",
    "hasilPangkat = x ** y\n",
    "hasilDiv = x // y\n",
    "\n",
    "print(\"Hasil Penjumlahan\",x,\"+\",y,\"=\",hasilTambah)\n",
    "print(\"Hasil Penngurangan\",x,\"-\",y,\"=\",hasilKurang)\n",
    "print(\"Hasil Perkalian\",x,\"*\",y,\"=\",hasilKali)\n",
    "print(\"Hasil Pembagian\",x,\"/\",y,\"=\",hasilBagi)\n",
    "print(\"Hasil Modulus\",x,\"%\",y,\"=\",hasilMod)\n",
    "print(\"Hasil Pangkat\",x,\"**\",y,\"=\",hasilPangkat)\n",
    "print(\"Hasil Pembagian Bulat\",x,\"//\",y,\"=\",hasilDiv)"
   ]
  },
  {
   "cell_type": "markdown",
   "id": "529a6366",
   "metadata": {},
   "source": [
    "<h1>Operator Penugasan</h1>"
   ]
  },
  {
   "cell_type": "code",
   "execution_count": 6,
   "id": "73c7821e",
   "metadata": {},
   "outputs": [
    {
     "name": "stdout",
     "output_type": "stream",
     "text": [
      "Isikan Nilai Awal:5\n",
      "Nilai Awal : 5\n",
      "Setelah ditambah 3= 8\n",
      "Kemudian dikurang dengan 5= 3\n",
      "Selanjutnya dikali dengan 3= 9\n",
      "Proses terakhir dibagi dengan 2= 4.5\n"
     ]
    }
   ],
   "source": [
    "nilaiAwal = int(input(\"Isikan Nilai Awal:\"))\n",
    "print(\"Nilai Awal :\",nilaiAwal)\n",
    "nilaiAwal+=3\n",
    "print(\"Setelah ditambah 3=\",nilaiAwal)\n",
    "nilaiAwal-=5\n",
    "print(\"Kemudian dikurang dengan 5=\",nilaiAwal)\n",
    "nilaiAwal*=3\n",
    "print(\"Selanjutnya dikali dengan 3=\",nilaiAwal)\n",
    "nilaiAwal/=2\n",
    "print(\"Proses terakhir dibagi dengan 2=\",nilaiAwal )"
   ]
  },
  {
   "cell_type": "markdown",
   "id": "6e8dd91b",
   "metadata": {},
   "source": [
    "<h1>Operator Perbandingan</h1>"
   ]
  },
  {
   "cell_type": "code",
   "execution_count": 11,
   "id": "fbd9563a",
   "metadata": {},
   "outputs": [
    {
     "name": "stdout",
     "output_type": "stream",
     "text": [
      "Isikan Nilai fVal :6\n",
      "Isikan Nilai sVal :6\n",
      "6 = 6 True\n",
      "6 != 6 False\n",
      "6 > 6 False\n",
      "6 < 6 False\n",
      "6 >= 6 True\n",
      "6 <= 6 True\n"
     ]
    }
   ],
   "source": [
    "fVal = int(input(\"Isikan Nilai fVal :\"))\n",
    "sVal = int(input(\"Isikan Nilai sVal :\"))\n",
    "print(fVal,\"=\",sVal,fVal==sVal)\n",
    "print(fVal,\"!=\",sVal,fVal!=sVal)\n",
    "print(fVal,\">\",sVal,fVal>sVal)\n",
    "print(fVal,\"<\",sVal,fVal<sVal)\n",
    "print(fVal,\">=\",sVal,fVal>=sVal)\n",
    "print(fVal,\"<=\",sVal,fVal<=sVal)"
   ]
  },
  {
   "cell_type": "markdown",
   "id": "3f637283",
   "metadata": {},
   "source": [
    "<h1>Operator Logika</h1>"
   ]
  },
  {
   "cell_type": "markdown",
   "id": "c5fa7963",
   "metadata": {},
   "source": [
    "num_1 = int(input(\"Isikan Bilangan 1 :\"))\n",
    "num_2 = int(input(\"Isikan Bilangan 2 :\"))\n",
    "\n",
    "print(\"Bilangan 1:\",num_1)\n",
    "print(\"Bilangan 2:\",num_2)\n",
    "\n",
    "print(\"Apakah Bil. 1 mod 2 = 0 dan Bi. 2 lebih besar dari 3?\",num_1 % 2==0 and num_2 > 3)\n",
    "print(\"Apakah Bil. 1 mod 2 = 0 dan Bil. 2 lebih besar dari 3?\",num_1 % 2==0 or num_2 > 3)\n",
    "print(\"Apakah Bil. 1 mod 2 = 0 dan Bil. 2 lebih besar dari 3?\",not(num_1 % 2==0 or num_2 > 3))"
   ]
  },
  {
   "cell_type": "markdown",
   "id": "c247f400",
   "metadata": {},
   "source": [
    "<h1>Operator Identitas</h1>"
   ]
  },
  {
   "cell_type": "code",
   "execution_count": 17,
   "id": "ec2c22ed",
   "metadata": {},
   "outputs": [
    {
     "name": "stdout",
     "output_type": "stream",
     "text": [
      "True\n",
      "False\n",
      "True\n",
      "Memori Addres dari val1 2890230931824\n",
      "Memori Addres dari val2 2890217908816\n",
      "Memori Addres dari val3 2890217908816\n"
     ]
    },
    {
     "name": "stderr",
     "output_type": "stream",
     "text": [
      "<>:1: SyntaxWarning: \"is\" with a literal. Did you mean \"==\"?\n",
      "<>:1: SyntaxWarning: \"is\" with a literal. Did you mean \"==\"?\n",
      "C:\\Users\\komputer 3\\AppData\\Local\\Temp\\ipykernel_6684\\1755874116.py:1: SyntaxWarning: \"is\" with a literal. Did you mean \"==\"?\n",
      "  print(\"Ica\" is \"Ica\")\n"
     ]
    }
   ],
   "source": [
    "print(\"Ica\" is \"Ica\")\n",
    "val1 = \"10\"\n",
    "val2 = 10\n",
    "val3 = val2\n",
    "print(val1 is val2)\n",
    "print(val1 is not val2)\n",
    "\n",
    "print(\"Memori Addres dari val1\",id(val1))\n",
    "print(\"Memori Addres dari val2\",id(val2))\n",
    "print(\"Memori Addres dari val3\",id(val3))"
   ]
  },
  {
   "cell_type": "markdown",
   "id": "fad0d81e",
   "metadata": {},
   "source": [
    "<h1>Operator Keanggotaan</h1>"
   ]
  },
  {
   "cell_type": "code",
   "execution_count": 18,
   "id": "9969c78a",
   "metadata": {},
   "outputs": [
    {
     "name": "stdout",
     "output_type": "stream",
     "text": [
      "True\n",
      "False\n"
     ]
    }
   ],
   "source": [
    "find = \"Mark\"\n",
    "daftarMahasiswa = [\"Joshua\",\"jeno\",\"Mark\",\"Dede\"]\n",
    "\n",
    "print(find in daftarMahasiswa)\n",
    "print(find not in daftarMahasiswa)"
   ]
  },
  {
   "cell_type": "markdown",
   "id": "8951487a",
   "metadata": {},
   "source": [
    "<h1>Operator Bitwise</h1>"
   ]
  },
  {
   "cell_type": "code",
   "execution_count": 21,
   "id": "685d31d9",
   "metadata": {},
   "outputs": [
    {
     "name": "stdout",
     "output_type": "stream",
     "text": [
      "Isikan Nilai 1 :64\n",
      "Isikan Nilai 2 :3\n",
      "0\n",
      "67\n",
      "67\n",
      "512\n",
      "8\n"
     ]
    }
   ],
   "source": [
    "desimal1 = int(input(\"Isikan Nilai 1 :\"))\n",
    "desimal2 = int(input(\"Isikan Nilai 2 :\"))\n",
    "\n",
    "print(desimal1 & desimal2)\n",
    "print(desimal1 | desimal2)\n",
    "print(desimal1 ^ desimal2)\n",
    "print(desimal1 << desimal2)\n",
    "print(desimal1 >> desimal2)"
   ]
  }
 ],
 "metadata": {
  "kernelspec": {
   "display_name": "Python [conda env:base] *",
   "language": "python",
   "name": "conda-base-py"
  },
  "language_info": {
   "codemirror_mode": {
    "name": "ipython",
    "version": 3
   },
   "file_extension": ".py",
   "mimetype": "text/x-python",
   "name": "python",
   "nbconvert_exporter": "python",
   "pygments_lexer": "ipython3",
   "version": "3.12.7"
  }
 },
 "nbformat": 4,
 "nbformat_minor": 5
}
