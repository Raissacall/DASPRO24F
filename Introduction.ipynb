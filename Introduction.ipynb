{
 "cells": [
  {
   "cell_type": "markdown",
   "id": "d22f1188",
   "metadata": {},
   "source": []
  },
  {
   "cell_type": "markdown",
   "id": "54f2dcc4",
   "metadata": {},
   "source": [
    "<center><img src=\"https://simplecode.dk/wp-content/uploads/2020/03/Python-logo.png\" width=\"200\">\n",
    "</center><br>\n",
    "Jenis Cell di <b> Jupyter Notebooks</b> ada 2\n",
    "<ol>\n",
    "    <li>Mark Down (M)</li>\n",
    "    <li>Code (Y)</li>\n",
    "</ol>\n",
    "<hr>"
   ]
  },
  {
   "cell_type": "markdown",
   "id": "68023fdd",
   "metadata": {},
   "source": [
    "Cara menambah Cell ada 2:\n",
    "<ul> \n",
    "    <li>Above (A)</li>\n",
    "    <li>Below (B)</li>\n",
    " </ul>\n",
    " \n",
    " <table>\n",
    "    <tr>\n",
    "        <th>Perintah</th>\n",
    "        <th>Keterangan</th>\n",
    "    </tr>\n",
    "    <tr>\n",
    "        <td>ctrl + enter</td>\n",
    "        <td>Running dan fokus di cell</td>\n",
    "    </tr>\n",
    "    <tr>\n",
    "        <td>Shift + enter</td>\n",
    "        <td>Running dan fokus di cell berikutnya</td>\n",
    " </table>"
   ]
  },
  {
   "cell_type": "code",
   "execution_count": 6,
   "id": "a870fb74",
   "metadata": {},
   "outputs": [
    {
     "name": "stdout",
     "output_type": "stream",
     "text": [
      "Python is very easy\n",
      "5\n",
      "Sekarang hari jum'at\n",
      "Deklarasikan variabel\"A\"\n",
      "15\n",
      "10\n"
     ]
    },
    {
     "data": {
      "text/plain": [
       "1005"
      ]
     },
     "execution_count": 6,
     "metadata": {},
     "output_type": "execute_result"
    }
   ],
   "source": [
    "print(\"Python is very easy\")\n",
    "data =  5\n",
    "data2 = \"10\"\n",
    "print(data)\n",
    "print(\"Sekarang hari jum'at\")\n",
    "print('Deklarasikan variabel\"A\"')\n",
    "print(data + int(data2))\n",
    "print(data2)\n",
    "data2\n",
    "data + 1000"
   ]
  },
  {
   "cell_type": "code",
   "execution_count": null,
   "id": "a13ea2e2",
   "metadata": {},
   "outputs": [],
   "source": [
    "()"
   ]
  }
 ],
 "metadata": {
  "kernelspec": {
   "display_name": "Python 3 (ipykernel)",
   "language": "python",
   "name": "python3"
  },
  "language_info": {
   "codemirror_mode": {
    "name": "ipython",
    "version": 3
   },
   "file_extension": ".py",
   "mimetype": "text/x-python",
   "name": "python",
   "nbconvert_exporter": "python",
   "pygments_lexer": "ipython3",
   "version": "3.9.12"
  }
 },
 "nbformat": 4,
 "nbformat_minor": 5
}
